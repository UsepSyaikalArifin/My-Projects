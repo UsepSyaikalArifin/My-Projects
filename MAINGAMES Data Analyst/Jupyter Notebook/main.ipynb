{
 "cells": [
  {
   "cell_type": "markdown",
   "metadata": {},
   "source": [
    "# Data Analyst Project : Business Decision Research About Features & PaidStarPerWatchedHour"
   ]
  },
  {
   "cell_type": "markdown",
   "metadata": {},
   "source": [
    "## Load Library"
   ]
  },
  {
   "cell_type": "code",
   "execution_count": 1,
   "metadata": {},
   "outputs": [],
   "source": [
    "import numpy as np\n",
    "import pandas as pd\n",
    "import matplotlib.pyplot as plt\n",
    "import seaborn as sns\n",
    "\n",
    "from IPython.display import display"
   ]
  },
  {
   "cell_type": "markdown",
   "metadata": {},
   "source": [
    "## Data Collection"
   ]
  },
  {
   "cell_type": "markdown",
   "metadata": {},
   "source": [
    "### Load Dataset"
   ]
  },
  {
   "cell_type": "code",
   "execution_count": 2,
   "metadata": {},
   "outputs": [
    {
     "data": {
      "text/html": [
       "<div>\n",
       "<style scoped>\n",
       "    .dataframe tbody tr th:only-of-type {\n",
       "        vertical-align: middle;\n",
       "    }\n",
       "\n",
       "    .dataframe tbody tr th {\n",
       "        vertical-align: top;\n",
       "    }\n",
       "\n",
       "    .dataframe thead th {\n",
       "        text-align: right;\n",
       "    }\n",
       "</style>\n",
       "<table border=\"1\" class=\"dataframe\">\n",
       "  <thead>\n",
       "    <tr style=\"text-align: right;\">\n",
       "      <th></th>\n",
       "      <th>Unnamed: 0</th>\n",
       "      <th>Country</th>\n",
       "      <th>Gender</th>\n",
       "      <th>Game</th>\n",
       "      <th>Total Follower</th>\n",
       "      <th>Broadcast Hours</th>\n",
       "      <th>PaidStarPerWatchedHour</th>\n",
       "      <th>Character_Facet_Cont_Rigidity</th>\n",
       "      <th>Character_Facet_Cont_AchievementStriving</th>\n",
       "      <th>Personal_Values_Facet_Cont_Hedonism</th>\n",
       "      <th>...</th>\n",
       "      <th>Personal_Values_Facet_Cont_UniversalismNature</th>\n",
       "      <th>Role_Charismatic</th>\n",
       "      <th>Personal_Values_Facet_Cont_Tradition</th>\n",
       "      <th>Self_Esteem_Cont_SELevelAppearance</th>\n",
       "      <th>Character_Facet_Cont_Assertiveness</th>\n",
       "      <th>Character_Facet_Cont_Cautiousness</th>\n",
       "      <th>Role_Curator</th>\n",
       "      <th>Personal_Values_Cont_Conservation</th>\n",
       "      <th>Self_Esteem_Cont_SELevelIntelligence</th>\n",
       "      <th>Temperament_Centric</th>\n",
       "    </tr>\n",
       "  </thead>\n",
       "  <tbody>\n",
       "    <tr>\n",
       "      <th>0</th>\n",
       "      <td>0</td>\n",
       "      <td>ID</td>\n",
       "      <td>Male</td>\n",
       "      <td>MLBB</td>\n",
       "      <td>96751</td>\n",
       "      <td>104</td>\n",
       "      <td>0.004113</td>\n",
       "      <td>0.663442</td>\n",
       "      <td>0.718679</td>\n",
       "      <td>0.288008</td>\n",
       "      <td>...</td>\n",
       "      <td>0.523116</td>\n",
       "      <td>0.408444</td>\n",
       "      <td>0.318747</td>\n",
       "      <td>0.684412</td>\n",
       "      <td>0.494384</td>\n",
       "      <td>0.751974</td>\n",
       "      <td>0.524306</td>\n",
       "      <td>0.299052</td>\n",
       "      <td>0.803920</td>\n",
       "      <td>0.625</td>\n",
       "    </tr>\n",
       "    <tr>\n",
       "      <th>1</th>\n",
       "      <td>1</td>\n",
       "      <td>ID</td>\n",
       "      <td>Male</td>\n",
       "      <td>8 Ball Pool</td>\n",
       "      <td>4781</td>\n",
       "      <td>174</td>\n",
       "      <td>0.002855</td>\n",
       "      <td>0.543255</td>\n",
       "      <td>0.427887</td>\n",
       "      <td>0.430609</td>\n",
       "      <td>...</td>\n",
       "      <td>0.444493</td>\n",
       "      <td>0.407624</td>\n",
       "      <td>0.382594</td>\n",
       "      <td>0.635493</td>\n",
       "      <td>0.468738</td>\n",
       "      <td>0.571198</td>\n",
       "      <td>0.100202</td>\n",
       "      <td>0.304527</td>\n",
       "      <td>0.751291</td>\n",
       "      <td>0.125</td>\n",
       "    </tr>\n",
       "    <tr>\n",
       "      <th>2</th>\n",
       "      <td>2</td>\n",
       "      <td>ID</td>\n",
       "      <td>Female</td>\n",
       "      <td>Free Fire - Battlegrounds</td>\n",
       "      <td>68246</td>\n",
       "      <td>83</td>\n",
       "      <td>0.003007</td>\n",
       "      <td>0.527279</td>\n",
       "      <td>0.399873</td>\n",
       "      <td>0.753009</td>\n",
       "      <td>...</td>\n",
       "      <td>0.581657</td>\n",
       "      <td>0.443453</td>\n",
       "      <td>0.325263</td>\n",
       "      <td>0.398686</td>\n",
       "      <td>0.515929</td>\n",
       "      <td>0.309322</td>\n",
       "      <td>0.070988</td>\n",
       "      <td>0.305975</td>\n",
       "      <td>0.759900</td>\n",
       "      <td>0.000</td>\n",
       "    </tr>\n",
       "    <tr>\n",
       "      <th>3</th>\n",
       "      <td>3</td>\n",
       "      <td>ID</td>\n",
       "      <td>Male</td>\n",
       "      <td>MLBB</td>\n",
       "      <td>142037</td>\n",
       "      <td>127</td>\n",
       "      <td>0.005171</td>\n",
       "      <td>0.677222</td>\n",
       "      <td>0.603534</td>\n",
       "      <td>0.407923</td>\n",
       "      <td>...</td>\n",
       "      <td>0.385822</td>\n",
       "      <td>0.408994</td>\n",
       "      <td>0.440821</td>\n",
       "      <td>0.703669</td>\n",
       "      <td>0.516412</td>\n",
       "      <td>0.535322</td>\n",
       "      <td>0.214652</td>\n",
       "      <td>0.298592</td>\n",
       "      <td>0.734010</td>\n",
       "      <td>0.000</td>\n",
       "    </tr>\n",
       "    <tr>\n",
       "      <th>4</th>\n",
       "      <td>4</td>\n",
       "      <td>ID</td>\n",
       "      <td>Male</td>\n",
       "      <td>Free Fire - Battlegrounds</td>\n",
       "      <td>15416</td>\n",
       "      <td>86</td>\n",
       "      <td>0.001213</td>\n",
       "      <td>0.238194</td>\n",
       "      <td>0.543285</td>\n",
       "      <td>0.392993</td>\n",
       "      <td>...</td>\n",
       "      <td>0.582025</td>\n",
       "      <td>0.135650</td>\n",
       "      <td>0.405968</td>\n",
       "      <td>0.439668</td>\n",
       "      <td>0.586193</td>\n",
       "      <td>0.567604</td>\n",
       "      <td>0.324364</td>\n",
       "      <td>0.298716</td>\n",
       "      <td>0.814530</td>\n",
       "      <td>0.125</td>\n",
       "    </tr>\n",
       "  </tbody>\n",
       "</table>\n",
       "<p>5 rows × 127 columns</p>\n",
       "</div>"
      ],
      "text/plain": [
       "   Unnamed: 0 Country  Gender                       Game Total Follower  \\\n",
       "0           0      ID    Male                       MLBB          96751   \n",
       "1           1      ID    Male                8 Ball Pool           4781   \n",
       "2           2      ID  Female  Free Fire - Battlegrounds          68246   \n",
       "3           3      ID    Male                       MLBB         142037   \n",
       "4           4      ID    Male  Free Fire - Battlegrounds          15416   \n",
       "\n",
       "   Broadcast Hours  PaidStarPerWatchedHour  Character_Facet_Cont_Rigidity  \\\n",
       "0              104                0.004113                       0.663442   \n",
       "1              174                0.002855                       0.543255   \n",
       "2               83                0.003007                       0.527279   \n",
       "3              127                0.005171                       0.677222   \n",
       "4               86                0.001213                       0.238194   \n",
       "\n",
       "   Character_Facet_Cont_AchievementStriving  \\\n",
       "0                                  0.718679   \n",
       "1                                  0.427887   \n",
       "2                                  0.399873   \n",
       "3                                  0.603534   \n",
       "4                                  0.543285   \n",
       "\n",
       "   Personal_Values_Facet_Cont_Hedonism  ...  \\\n",
       "0                             0.288008  ...   \n",
       "1                             0.430609  ...   \n",
       "2                             0.753009  ...   \n",
       "3                             0.407923  ...   \n",
       "4                             0.392993  ...   \n",
       "\n",
       "   Personal_Values_Facet_Cont_UniversalismNature  Role_Charismatic  \\\n",
       "0                                       0.523116          0.408444   \n",
       "1                                       0.444493          0.407624   \n",
       "2                                       0.581657          0.443453   \n",
       "3                                       0.385822          0.408994   \n",
       "4                                       0.582025          0.135650   \n",
       "\n",
       "   Personal_Values_Facet_Cont_Tradition  Self_Esteem_Cont_SELevelAppearance  \\\n",
       "0                              0.318747                            0.684412   \n",
       "1                              0.382594                            0.635493   \n",
       "2                              0.325263                            0.398686   \n",
       "3                              0.440821                            0.703669   \n",
       "4                              0.405968                            0.439668   \n",
       "\n",
       "   Character_Facet_Cont_Assertiveness  Character_Facet_Cont_Cautiousness  \\\n",
       "0                            0.494384                           0.751974   \n",
       "1                            0.468738                           0.571198   \n",
       "2                            0.515929                           0.309322   \n",
       "3                            0.516412                           0.535322   \n",
       "4                            0.586193                           0.567604   \n",
       "\n",
       "   Role_Curator  Personal_Values_Cont_Conservation  \\\n",
       "0      0.524306                           0.299052   \n",
       "1      0.100202                           0.304527   \n",
       "2      0.070988                           0.305975   \n",
       "3      0.214652                           0.298592   \n",
       "4      0.324364                           0.298716   \n",
       "\n",
       "   Self_Esteem_Cont_SELevelIntelligence  Temperament_Centric  \n",
       "0                              0.803920                0.625  \n",
       "1                              0.751291                0.125  \n",
       "2                              0.759900                0.000  \n",
       "3                              0.734010                0.000  \n",
       "4                              0.814530                0.125  \n",
       "\n",
       "[5 rows x 127 columns]"
      ]
     },
     "metadata": {},
     "output_type": "display_data"
    }
   ],
   "source": [
    "dataset = pd.read_csv(r\"D:\\Usep Syaikal Arifin\\Computer Programming\\Python\\MyProjects\\MAINGAMES Data Analyst\\Dataset\\Maingames_DS_dataset.csv\")\n",
    "display(dataset.head())"
   ]
  },
  {
   "cell_type": "markdown",
   "metadata": {},
   "source": [
    "## Data Preparation"
   ]
  },
  {
   "cell_type": "markdown",
   "metadata": {},
   "source": [
    "### Dataset Eksploration"
   ]
  },
  {
   "cell_type": "code",
   "execution_count": 3,
   "metadata": {},
   "outputs": [
    {
     "name": "stdout",
     "output_type": "stream",
     "text": [
      "Dimension of Dataset = 631 Rows & 127 Columns\n"
     ]
    }
   ],
   "source": [
    "print(\"Dimension of Dataset = %d Rows & %d Columns\"%dataset.shape)"
   ]
  },
  {
   "cell_type": "markdown",
   "metadata": {},
   "source": [
    "### Handling Missing Value"
   ]
  },
  {
   "cell_type": "code",
   "execution_count": 4,
   "metadata": {},
   "outputs": [
    {
     "name": "stdout",
     "output_type": "stream",
     "text": [
      "Checks Existing of Missing Value Dataset = ?\n"
     ]
    },
    {
     "data": {
      "text/plain": [
       "['Gender',\n",
       " 'Game',\n",
       " 'Total Follower',\n",
       " 'PaidStarPerWatchedHour',\n",
       " 'PaidStarPerWatchedHour.1']"
      ]
     },
     "metadata": {},
     "output_type": "display_data"
    },
    {
     "data": {
      "text/plain": [
       "8"
      ]
     },
     "metadata": {},
     "output_type": "display_data"
    }
   ],
   "source": [
    "print(\"Checks Existing of Missing Value Dataset = ?\")\n",
    "\n",
    "missing_values_columns = dataset.columns[dataset.isnull().any()].to_list()\n",
    "total_missing_values = dataset.isnull().sum().sum()\n",
    "\n",
    "display(missing_values_columns)\n",
    "display(total_missing_values)"
   ]
  },
  {
   "cell_type": "code",
   "execution_count": 5,
   "metadata": {},
   "outputs": [
    {
     "name": "stdout",
     "output_type": "stream",
     "text": [
      "Checks Existing of Missing Value Dataset = ?\n"
     ]
    },
    {
     "data": {
      "text/plain": [
       "[]"
      ]
     },
     "metadata": {},
     "output_type": "display_data"
    },
    {
     "data": {
      "text/plain": [
       "0"
      ]
     },
     "metadata": {},
     "output_type": "display_data"
    }
   ],
   "source": [
    "dataset = dataset.dropna(subset=missing_values_columns)\n",
    "\n",
    "print(\"Checks Existing of Missing Value Dataset = ?\")\n",
    "\n",
    "missing_values_columns = dataset.columns[dataset.isnull().any()].to_list()\n",
    "total_missing_values = dataset.isnull().sum().sum()\n",
    "\n",
    "display(missing_values_columns)\n",
    "display(total_missing_values)"
   ]
  },
  {
   "cell_type": "markdown",
   "metadata": {},
   "source": [
    "### Drop Useless Columns"
   ]
  },
  {
   "cell_type": "code",
   "execution_count": 6,
   "metadata": {},
   "outputs": [
    {
     "name": "stdout",
     "output_type": "stream",
     "text": [
      "Dimension of Dataset = 626 Rows & 125 Columns\n"
     ]
    }
   ],
   "source": [
    "useless_columns = [\"Unnamed: 0\",\"PaidStarPerWatchedHour.1\"]\n",
    "dataset = dataset.drop(useless_columns, axis=1)\n",
    "\n",
    "print(\"Dimension of Dataset = %d Rows & %d Columns\"%dataset.shape)"
   ]
  },
  {
   "cell_type": "markdown",
   "metadata": {},
   "source": [
    "### Drop Rows Thah Have String \"-\""
   ]
  },
  {
   "cell_type": "code",
   "execution_count": 7,
   "metadata": {},
   "outputs": [],
   "source": [
    "dataset = dataset.drop([450, 508, 534, 439])"
   ]
  },
  {
   "cell_type": "markdown",
   "metadata": {},
   "source": [
    "### Drop Rows That Have String \"250,98\""
   ]
  },
  {
   "cell_type": "code",
   "execution_count": 8,
   "metadata": {},
   "outputs": [],
   "source": [
    "dataset = dataset.drop([576])"
   ]
  },
  {
   "cell_type": "markdown",
   "metadata": {},
   "source": [
    "### Reset Index Dataset"
   ]
  },
  {
   "cell_type": "code",
   "execution_count": 9,
   "metadata": {},
   "outputs": [],
   "source": [
    "dataset = dataset.reset_index(drop=True)"
   ]
  },
  {
   "cell_type": "markdown",
   "metadata": {},
   "source": [
    "### Split The Columns Into Several Segments"
   ]
  },
  {
   "cell_type": "markdown",
   "metadata": {},
   "source": [
    "#### Making Label DataFrame"
   ]
  },
  {
   "cell_type": "code",
   "execution_count": 10,
   "metadata": {},
   "outputs": [
    {
     "data": {
      "text/html": [
       "<div>\n",
       "<style scoped>\n",
       "    .dataframe tbody tr th:only-of-type {\n",
       "        vertical-align: middle;\n",
       "    }\n",
       "\n",
       "    .dataframe tbody tr th {\n",
       "        vertical-align: top;\n",
       "    }\n",
       "\n",
       "    .dataframe thead th {\n",
       "        text-align: right;\n",
       "    }\n",
       "</style>\n",
       "<table border=\"1\" class=\"dataframe\">\n",
       "  <thead>\n",
       "    <tr style=\"text-align: right;\">\n",
       "      <th></th>\n",
       "      <th>PaidStarPerWatchedHour</th>\n",
       "    </tr>\n",
       "  </thead>\n",
       "  <tbody>\n",
       "    <tr>\n",
       "      <th>0</th>\n",
       "      <td>0.004113</td>\n",
       "    </tr>\n",
       "    <tr>\n",
       "      <th>1</th>\n",
       "      <td>0.002855</td>\n",
       "    </tr>\n",
       "    <tr>\n",
       "      <th>2</th>\n",
       "      <td>0.003007</td>\n",
       "    </tr>\n",
       "    <tr>\n",
       "      <th>3</th>\n",
       "      <td>0.005171</td>\n",
       "    </tr>\n",
       "    <tr>\n",
       "      <th>4</th>\n",
       "      <td>0.001213</td>\n",
       "    </tr>\n",
       "  </tbody>\n",
       "</table>\n",
       "</div>"
      ],
      "text/plain": [
       "   PaidStarPerWatchedHour\n",
       "0                0.004113\n",
       "1                0.002855\n",
       "2                0.003007\n",
       "3                0.005171\n",
       "4                0.001213"
      ]
     },
     "metadata": {},
     "output_type": "display_data"
    }
   ],
   "source": [
    "Label = dataset[[\"PaidStarPerWatchedHour\"]]\n",
    "display(Label.head())"
   ]
  },
  {
   "cell_type": "markdown",
   "metadata": {},
   "source": [
    "#### Making Features DataFrame"
   ]
  },
  {
   "cell_type": "code",
   "execution_count": 11,
   "metadata": {},
   "outputs": [
    {
     "data": {
      "text/html": [
       "<div>\n",
       "<style scoped>\n",
       "    .dataframe tbody tr th:only-of-type {\n",
       "        vertical-align: middle;\n",
       "    }\n",
       "\n",
       "    .dataframe tbody tr th {\n",
       "        vertical-align: top;\n",
       "    }\n",
       "\n",
       "    .dataframe thead th {\n",
       "        text-align: right;\n",
       "    }\n",
       "</style>\n",
       "<table border=\"1\" class=\"dataframe\">\n",
       "  <thead>\n",
       "    <tr style=\"text-align: right;\">\n",
       "      <th></th>\n",
       "      <th>Country</th>\n",
       "      <th>Gender</th>\n",
       "      <th>Game</th>\n",
       "      <th>Total Follower</th>\n",
       "      <th>Broadcast Hours</th>\n",
       "      <th>Character_Facet_Cont_Rigidity</th>\n",
       "      <th>Character_Facet_Cont_AchievementStriving</th>\n",
       "      <th>Personal_Values_Facet_Cont_Hedonism</th>\n",
       "      <th>Character_Facet_Cont_Dutifulness</th>\n",
       "      <th>Character_Cont_Conscientiousness</th>\n",
       "      <th>...</th>\n",
       "      <th>Personal_Values_Facet_Cont_UniversalismNature</th>\n",
       "      <th>Role_Charismatic</th>\n",
       "      <th>Personal_Values_Facet_Cont_Tradition</th>\n",
       "      <th>Self_Esteem_Cont_SELevelAppearance</th>\n",
       "      <th>Character_Facet_Cont_Assertiveness</th>\n",
       "      <th>Character_Facet_Cont_Cautiousness</th>\n",
       "      <th>Role_Curator</th>\n",
       "      <th>Personal_Values_Cont_Conservation</th>\n",
       "      <th>Self_Esteem_Cont_SELevelIntelligence</th>\n",
       "      <th>Temperament_Centric</th>\n",
       "    </tr>\n",
       "  </thead>\n",
       "  <tbody>\n",
       "    <tr>\n",
       "      <th>0</th>\n",
       "      <td>ID</td>\n",
       "      <td>Male</td>\n",
       "      <td>MLBB</td>\n",
       "      <td>96751</td>\n",
       "      <td>104</td>\n",
       "      <td>0.663442</td>\n",
       "      <td>0.718679</td>\n",
       "      <td>0.288008</td>\n",
       "      <td>0.471456</td>\n",
       "      <td>0.522711</td>\n",
       "      <td>...</td>\n",
       "      <td>0.523116</td>\n",
       "      <td>0.408444</td>\n",
       "      <td>0.318747</td>\n",
       "      <td>0.684412</td>\n",
       "      <td>0.494384</td>\n",
       "      <td>0.751974</td>\n",
       "      <td>0.524306</td>\n",
       "      <td>0.299052</td>\n",
       "      <td>0.803920</td>\n",
       "      <td>0.625</td>\n",
       "    </tr>\n",
       "    <tr>\n",
       "      <th>1</th>\n",
       "      <td>ID</td>\n",
       "      <td>Male</td>\n",
       "      <td>8 Ball Pool</td>\n",
       "      <td>4781</td>\n",
       "      <td>174</td>\n",
       "      <td>0.543255</td>\n",
       "      <td>0.427887</td>\n",
       "      <td>0.430609</td>\n",
       "      <td>0.493514</td>\n",
       "      <td>0.348513</td>\n",
       "      <td>...</td>\n",
       "      <td>0.444493</td>\n",
       "      <td>0.407624</td>\n",
       "      <td>0.382594</td>\n",
       "      <td>0.635493</td>\n",
       "      <td>0.468738</td>\n",
       "      <td>0.571198</td>\n",
       "      <td>0.100202</td>\n",
       "      <td>0.304527</td>\n",
       "      <td>0.751291</td>\n",
       "      <td>0.125</td>\n",
       "    </tr>\n",
       "    <tr>\n",
       "      <th>2</th>\n",
       "      <td>ID</td>\n",
       "      <td>Female</td>\n",
       "      <td>Free Fire - Battlegrounds</td>\n",
       "      <td>68246</td>\n",
       "      <td>83</td>\n",
       "      <td>0.527279</td>\n",
       "      <td>0.399873</td>\n",
       "      <td>0.753009</td>\n",
       "      <td>0.472405</td>\n",
       "      <td>0.376854</td>\n",
       "      <td>...</td>\n",
       "      <td>0.581657</td>\n",
       "      <td>0.443453</td>\n",
       "      <td>0.325263</td>\n",
       "      <td>0.398686</td>\n",
       "      <td>0.515929</td>\n",
       "      <td>0.309322</td>\n",
       "      <td>0.070988</td>\n",
       "      <td>0.305975</td>\n",
       "      <td>0.759900</td>\n",
       "      <td>0.000</td>\n",
       "    </tr>\n",
       "    <tr>\n",
       "      <th>3</th>\n",
       "      <td>ID</td>\n",
       "      <td>Male</td>\n",
       "      <td>MLBB</td>\n",
       "      <td>142037</td>\n",
       "      <td>127</td>\n",
       "      <td>0.677222</td>\n",
       "      <td>0.603534</td>\n",
       "      <td>0.407923</td>\n",
       "      <td>0.467787</td>\n",
       "      <td>0.499234</td>\n",
       "      <td>...</td>\n",
       "      <td>0.385822</td>\n",
       "      <td>0.408994</td>\n",
       "      <td>0.440821</td>\n",
       "      <td>0.703669</td>\n",
       "      <td>0.516412</td>\n",
       "      <td>0.535322</td>\n",
       "      <td>0.214652</td>\n",
       "      <td>0.298592</td>\n",
       "      <td>0.734010</td>\n",
       "      <td>0.000</td>\n",
       "    </tr>\n",
       "    <tr>\n",
       "      <th>4</th>\n",
       "      <td>ID</td>\n",
       "      <td>Male</td>\n",
       "      <td>Free Fire - Battlegrounds</td>\n",
       "      <td>15416</td>\n",
       "      <td>86</td>\n",
       "      <td>0.238194</td>\n",
       "      <td>0.543285</td>\n",
       "      <td>0.392993</td>\n",
       "      <td>0.583099</td>\n",
       "      <td>0.469371</td>\n",
       "      <td>...</td>\n",
       "      <td>0.582025</td>\n",
       "      <td>0.135650</td>\n",
       "      <td>0.405968</td>\n",
       "      <td>0.439668</td>\n",
       "      <td>0.586193</td>\n",
       "      <td>0.567604</td>\n",
       "      <td>0.324364</td>\n",
       "      <td>0.298716</td>\n",
       "      <td>0.814530</td>\n",
       "      <td>0.125</td>\n",
       "    </tr>\n",
       "  </tbody>\n",
       "</table>\n",
       "<p>5 rows × 124 columns</p>\n",
       "</div>"
      ],
      "text/plain": [
       "  Country  Gender                       Game Total Follower  Broadcast Hours  \\\n",
       "0      ID    Male                       MLBB          96751              104   \n",
       "1      ID    Male                8 Ball Pool           4781              174   \n",
       "2      ID  Female  Free Fire - Battlegrounds          68246               83   \n",
       "3      ID    Male                       MLBB         142037              127   \n",
       "4      ID    Male  Free Fire - Battlegrounds          15416               86   \n",
       "\n",
       "   Character_Facet_Cont_Rigidity  Character_Facet_Cont_AchievementStriving  \\\n",
       "0                       0.663442                                  0.718679   \n",
       "1                       0.543255                                  0.427887   \n",
       "2                       0.527279                                  0.399873   \n",
       "3                       0.677222                                  0.603534   \n",
       "4                       0.238194                                  0.543285   \n",
       "\n",
       "   Personal_Values_Facet_Cont_Hedonism  Character_Facet_Cont_Dutifulness  \\\n",
       "0                             0.288008                          0.471456   \n",
       "1                             0.430609                          0.493514   \n",
       "2                             0.753009                          0.472405   \n",
       "3                             0.407923                          0.467787   \n",
       "4                             0.392993                          0.583099   \n",
       "\n",
       "   Character_Cont_Conscientiousness  ...  \\\n",
       "0                          0.522711  ...   \n",
       "1                          0.348513  ...   \n",
       "2                          0.376854  ...   \n",
       "3                          0.499234  ...   \n",
       "4                          0.469371  ...   \n",
       "\n",
       "   Personal_Values_Facet_Cont_UniversalismNature  Role_Charismatic  \\\n",
       "0                                       0.523116          0.408444   \n",
       "1                                       0.444493          0.407624   \n",
       "2                                       0.581657          0.443453   \n",
       "3                                       0.385822          0.408994   \n",
       "4                                       0.582025          0.135650   \n",
       "\n",
       "   Personal_Values_Facet_Cont_Tradition  Self_Esteem_Cont_SELevelAppearance  \\\n",
       "0                              0.318747                            0.684412   \n",
       "1                              0.382594                            0.635493   \n",
       "2                              0.325263                            0.398686   \n",
       "3                              0.440821                            0.703669   \n",
       "4                              0.405968                            0.439668   \n",
       "\n",
       "   Character_Facet_Cont_Assertiveness  Character_Facet_Cont_Cautiousness  \\\n",
       "0                            0.494384                           0.751974   \n",
       "1                            0.468738                           0.571198   \n",
       "2                            0.515929                           0.309322   \n",
       "3                            0.516412                           0.535322   \n",
       "4                            0.586193                           0.567604   \n",
       "\n",
       "   Role_Curator  Personal_Values_Cont_Conservation  \\\n",
       "0      0.524306                           0.299052   \n",
       "1      0.100202                           0.304527   \n",
       "2      0.070988                           0.305975   \n",
       "3      0.214652                           0.298592   \n",
       "4      0.324364                           0.298716   \n",
       "\n",
       "   Self_Esteem_Cont_SELevelIntelligence  Temperament_Centric  \n",
       "0                              0.803920                0.625  \n",
       "1                              0.751291                0.125  \n",
       "2                              0.759900                0.000  \n",
       "3                              0.734010                0.000  \n",
       "4                              0.814530                0.125  \n",
       "\n",
       "[5 rows x 124 columns]"
      ]
     },
     "metadata": {},
     "output_type": "display_data"
    }
   ],
   "source": [
    "Features = dataset.drop([\"PaidStarPerWatchedHour\"], axis=1)\n",
    "display(Features.head())"
   ]
  },
  {
   "cell_type": "markdown",
   "metadata": {},
   "source": [
    "#### Split The Features Into Several Segements"
   ]
  },
  {
   "cell_type": "code",
   "execution_count": 12,
   "metadata": {},
   "outputs": [],
   "source": [
    "Features_columns = Features.columns.to_list()"
   ]
  },
  {
   "cell_type": "code",
   "execution_count": 13,
   "metadata": {},
   "outputs": [],
   "source": [
    "Character_columns = []\n",
    "Personal_columns = []\n",
    "Temperament_columns = []\n",
    "Self_columns = []\n",
    "Role_columns = []\n",
    "Core_columns = []\n",
    "\n",
    "for column in Features_columns:\n",
    "    if column.startswith(\"Character\"):\n",
    "        Character_columns.append(column)\n",
    "    elif column.startswith(\"Personal\"):\n",
    "        Personal_columns.append(column)\n",
    "    elif column.startswith(\"Temperament\"):\n",
    "        Temperament_columns.append(column)\n",
    "    elif column.startswith(\"Self\"):\n",
    "        Self_columns.append(column)\n",
    "    elif column.startswith(\"Role\"):\n",
    "        Role_columns.append(column)\n",
    "    else:\n",
    "        Core_columns.append(column)"
   ]
  },
  {
   "cell_type": "code",
   "execution_count": 14,
   "metadata": {},
   "outputs": [
    {
     "data": {
      "text/plain": [
       "30"
      ]
     },
     "metadata": {},
     "output_type": "display_data"
    },
    {
     "data": {
      "text/plain": [
       "23"
      ]
     },
     "metadata": {},
     "output_type": "display_data"
    },
    {
     "data": {
      "text/plain": [
       "9"
      ]
     },
     "metadata": {},
     "output_type": "display_data"
    },
    {
     "data": {
      "text/plain": [
       "24"
      ]
     },
     "metadata": {},
     "output_type": "display_data"
    },
    {
     "data": {
      "text/plain": [
       "32"
      ]
     },
     "metadata": {},
     "output_type": "display_data"
    },
    {
     "data": {
      "text/plain": [
       "6"
      ]
     },
     "metadata": {},
     "output_type": "display_data"
    }
   ],
   "source": [
    "display(len(Character_columns))\n",
    "display(len(Personal_columns))\n",
    "display(len(Temperament_columns))\n",
    "display(len(Self_columns))\n",
    "display(len(Role_columns))\n",
    "display(len(Core_columns))"
   ]
  },
  {
   "cell_type": "markdown",
   "metadata": {},
   "source": [
    "## Data Analysis"
   ]
  },
  {
   "cell_type": "markdown",
   "metadata": {},
   "source": [
    "### Data Analysis : df_Core_columns "
   ]
  },
  {
   "cell_type": "code",
   "execution_count": 15,
   "metadata": {},
   "outputs": [
    {
     "data": {
      "text/html": [
       "<div>\n",
       "<style scoped>\n",
       "    .dataframe tbody tr th:only-of-type {\n",
       "        vertical-align: middle;\n",
       "    }\n",
       "\n",
       "    .dataframe tbody tr th {\n",
       "        vertical-align: top;\n",
       "    }\n",
       "\n",
       "    .dataframe thead th {\n",
       "        text-align: right;\n",
       "    }\n",
       "</style>\n",
       "<table border=\"1\" class=\"dataframe\">\n",
       "  <thead>\n",
       "    <tr style=\"text-align: right;\">\n",
       "      <th></th>\n",
       "      <th>Country</th>\n",
       "      <th>Gender</th>\n",
       "      <th>Game</th>\n",
       "      <th>Total Follower</th>\n",
       "      <th>Broadcast Hours</th>\n",
       "      <th>MBTI_grouped</th>\n",
       "    </tr>\n",
       "  </thead>\n",
       "  <tbody>\n",
       "    <tr>\n",
       "      <th>0</th>\n",
       "      <td>ID</td>\n",
       "      <td>Male</td>\n",
       "      <td>MLBB</td>\n",
       "      <td>96751</td>\n",
       "      <td>104</td>\n",
       "      <td>INT</td>\n",
       "    </tr>\n",
       "    <tr>\n",
       "      <th>1</th>\n",
       "      <td>ID</td>\n",
       "      <td>Male</td>\n",
       "      <td>8 Ball Pool</td>\n",
       "      <td>4781</td>\n",
       "      <td>174</td>\n",
       "      <td>INT</td>\n",
       "    </tr>\n",
       "    <tr>\n",
       "      <th>2</th>\n",
       "      <td>ID</td>\n",
       "      <td>Female</td>\n",
       "      <td>Free Fire - Battlegrounds</td>\n",
       "      <td>68246</td>\n",
       "      <td>83</td>\n",
       "      <td>IST</td>\n",
       "    </tr>\n",
       "    <tr>\n",
       "      <th>3</th>\n",
       "      <td>ID</td>\n",
       "      <td>Male</td>\n",
       "      <td>MLBB</td>\n",
       "      <td>142037</td>\n",
       "      <td>127</td>\n",
       "      <td>ENT</td>\n",
       "    </tr>\n",
       "    <tr>\n",
       "      <th>4</th>\n",
       "      <td>ID</td>\n",
       "      <td>Male</td>\n",
       "      <td>Free Fire - Battlegrounds</td>\n",
       "      <td>15416</td>\n",
       "      <td>86</td>\n",
       "      <td>ISF</td>\n",
       "    </tr>\n",
       "  </tbody>\n",
       "</table>\n",
       "</div>"
      ],
      "text/plain": [
       "  Country  Gender                       Game Total Follower  Broadcast Hours  \\\n",
       "0      ID    Male                       MLBB          96751              104   \n",
       "1      ID    Male                8 Ball Pool           4781              174   \n",
       "2      ID  Female  Free Fire - Battlegrounds          68246               83   \n",
       "3      ID    Male                       MLBB         142037              127   \n",
       "4      ID    Male  Free Fire - Battlegrounds          15416               86   \n",
       "\n",
       "  MBTI_grouped  \n",
       "0          INT  \n",
       "1          INT  \n",
       "2          IST  \n",
       "3          ENT  \n",
       "4          ISF  "
      ]
     },
     "metadata": {},
     "output_type": "display_data"
    }
   ],
   "source": [
    "df_Core_columns = Features[Core_columns]\n",
    "\n",
    "display(df_Core_columns.head())"
   ]
  },
  {
   "cell_type": "markdown",
   "metadata": {},
   "source": [
    "#### Checking df_Core_columns Informations"
   ]
  },
  {
   "cell_type": "code",
   "execution_count": 16,
   "metadata": {},
   "outputs": [
    {
     "name": "stdout",
     "output_type": "stream",
     "text": [
      "Dimension of df_Core_dataset = 621 Rows & 6 Columns\n",
      "Checking df_Core_columns Information = ?\n",
      "<class 'pandas.core.frame.DataFrame'>\n",
      "RangeIndex: 621 entries, 0 to 620\n",
      "Data columns (total 6 columns):\n",
      " #   Column           Non-Null Count  Dtype \n",
      "---  ------           --------------  ----- \n",
      " 0   Country          621 non-null    object\n",
      " 1   Gender           621 non-null    object\n",
      " 2   Game             621 non-null    object\n",
      " 3   Total Follower   621 non-null    object\n",
      " 4   Broadcast Hours  621 non-null    int64 \n",
      " 5   MBTI_grouped     621 non-null    object\n",
      "dtypes: int64(1), object(5)\n",
      "memory usage: 29.2+ KB\n"
     ]
    },
    {
     "data": {
      "text/plain": [
       "None"
      ]
     },
     "metadata": {},
     "output_type": "display_data"
    },
    {
     "name": "stdout",
     "output_type": "stream",
     "text": [
      "Checks Existing of Missing Value = ?\n"
     ]
    },
    {
     "data": {
      "text/plain": [
       "Country            0\n",
       "Gender             0\n",
       "Game               0\n",
       "Total Follower     0\n",
       "Broadcast Hours    0\n",
       "MBTI_grouped       0\n",
       "dtype: int64"
      ]
     },
     "metadata": {},
     "output_type": "display_data"
    }
   ],
   "source": [
    "print(\"Dimension of df_Core_dataset = %d Rows & %d Columns\"%df_Core_columns.shape)\n",
    "print(\"Checking df_Core_columns Information = ?\")\n",
    "display(df_Core_columns.info())\n",
    "print(\"Checks Existing of Missing Value = ?\")\n",
    "display(df_Core_columns.isnull().sum())"
   ]
  },
  {
   "cell_type": "markdown",
   "metadata": {},
   "source": [
    "#### Change Column \"Total Follower\" Types"
   ]
  },
  {
   "cell_type": "code",
   "execution_count": 17,
   "metadata": {},
   "outputs": [],
   "source": [
    "# _list_strip = []\n",
    "# df_Core_columns_column = df_Core_columns.columns.to_list()\n",
    "# for i, column in enumerate(df_Core_columns_column):\n",
    "#     x = df_Core_columns.loc[df_Core_columns[column] == \"-\"].index.to_list()\n",
    "#     _list_strip.extend(x)\n",
    "\n",
    "# _list_strip = list(set(_list_strip))\n",
    "# display(_list_strip)"
   ]
  },
  {
   "cell_type": "code",
   "execution_count": 18,
   "metadata": {},
   "outputs": [],
   "source": [
    "# x = df_Core_columns.loc[df_Core_columns[\"Total Follower\"] == '250,98']\n",
    "# display(x)"
   ]
  },
  {
   "cell_type": "code",
   "execution_count": 19,
   "metadata": {},
   "outputs": [
    {
     "data": {
      "text/plain": [
       "Country            object\n",
       "Gender             object\n",
       "Game               object\n",
       "Total Follower      int64\n",
       "Broadcast Hours     int64\n",
       "MBTI_grouped       object\n",
       "dtype: object"
      ]
     },
     "metadata": {},
     "output_type": "display_data"
    }
   ],
   "source": [
    "df_Core_columns = df_Core_columns.astype({\"Total Follower\":\"int64\"})\n",
    "display(df_Core_columns.dtypes)"
   ]
  },
  {
   "cell_type": "markdown",
   "metadata": {},
   "source": [
    "#### Making PaidStarPerWatchedHour Columns in df_Core_columns"
   ]
  },
  {
   "cell_type": "code",
   "execution_count": 20,
   "metadata": {},
   "outputs": [
    {
     "data": {
      "text/html": [
       "<div>\n",
       "<style scoped>\n",
       "    .dataframe tbody tr th:only-of-type {\n",
       "        vertical-align: middle;\n",
       "    }\n",
       "\n",
       "    .dataframe tbody tr th {\n",
       "        vertical-align: top;\n",
       "    }\n",
       "\n",
       "    .dataframe thead th {\n",
       "        text-align: right;\n",
       "    }\n",
       "</style>\n",
       "<table border=\"1\" class=\"dataframe\">\n",
       "  <thead>\n",
       "    <tr style=\"text-align: right;\">\n",
       "      <th></th>\n",
       "      <th>Country</th>\n",
       "      <th>Gender</th>\n",
       "      <th>Game</th>\n",
       "      <th>Total Follower</th>\n",
       "      <th>Broadcast Hours</th>\n",
       "      <th>MBTI_grouped</th>\n",
       "    </tr>\n",
       "  </thead>\n",
       "  <tbody>\n",
       "    <tr>\n",
       "      <th>0</th>\n",
       "      <td>ID</td>\n",
       "      <td>Male</td>\n",
       "      <td>MLBB</td>\n",
       "      <td>96751</td>\n",
       "      <td>104</td>\n",
       "      <td>INT</td>\n",
       "    </tr>\n",
       "    <tr>\n",
       "      <th>1</th>\n",
       "      <td>ID</td>\n",
       "      <td>Male</td>\n",
       "      <td>8 Ball Pool</td>\n",
       "      <td>4781</td>\n",
       "      <td>174</td>\n",
       "      <td>INT</td>\n",
       "    </tr>\n",
       "    <tr>\n",
       "      <th>2</th>\n",
       "      <td>ID</td>\n",
       "      <td>Female</td>\n",
       "      <td>Free Fire - Battlegrounds</td>\n",
       "      <td>68246</td>\n",
       "      <td>83</td>\n",
       "      <td>IST</td>\n",
       "    </tr>\n",
       "    <tr>\n",
       "      <th>3</th>\n",
       "      <td>ID</td>\n",
       "      <td>Male</td>\n",
       "      <td>MLBB</td>\n",
       "      <td>142037</td>\n",
       "      <td>127</td>\n",
       "      <td>ENT</td>\n",
       "    </tr>\n",
       "    <tr>\n",
       "      <th>4</th>\n",
       "      <td>ID</td>\n",
       "      <td>Male</td>\n",
       "      <td>Free Fire - Battlegrounds</td>\n",
       "      <td>15416</td>\n",
       "      <td>86</td>\n",
       "      <td>ISF</td>\n",
       "    </tr>\n",
       "  </tbody>\n",
       "</table>\n",
       "</div>"
      ],
      "text/plain": [
       "  Country  Gender                       Game  Total Follower  Broadcast Hours  \\\n",
       "0      ID    Male                       MLBB           96751              104   \n",
       "1      ID    Male                8 Ball Pool            4781              174   \n",
       "2      ID  Female  Free Fire - Battlegrounds           68246               83   \n",
       "3      ID    Male                       MLBB          142037              127   \n",
       "4      ID    Male  Free Fire - Battlegrounds           15416               86   \n",
       "\n",
       "  MBTI_grouped  \n",
       "0          INT  \n",
       "1          INT  \n",
       "2          IST  \n",
       "3          ENT  \n",
       "4          ISF  "
      ]
     },
     "metadata": {},
     "output_type": "display_data"
    }
   ],
   "source": [
    "df_Core = df_Core_columns.copy()\n",
    "display(df_Core.head())"
   ]
  },
  {
   "cell_type": "code",
   "execution_count": 21,
   "metadata": {},
   "outputs": [
    {
     "data": {
      "text/html": [
       "<div>\n",
       "<style scoped>\n",
       "    .dataframe tbody tr th:only-of-type {\n",
       "        vertical-align: middle;\n",
       "    }\n",
       "\n",
       "    .dataframe tbody tr th {\n",
       "        vertical-align: top;\n",
       "    }\n",
       "\n",
       "    .dataframe thead th {\n",
       "        text-align: right;\n",
       "    }\n",
       "</style>\n",
       "<table border=\"1\" class=\"dataframe\">\n",
       "  <thead>\n",
       "    <tr style=\"text-align: right;\">\n",
       "      <th></th>\n",
       "      <th>PaidStarPerWatchedHour</th>\n",
       "    </tr>\n",
       "  </thead>\n",
       "  <tbody>\n",
       "    <tr>\n",
       "      <th>0</th>\n",
       "      <td>0.004113</td>\n",
       "    </tr>\n",
       "    <tr>\n",
       "      <th>1</th>\n",
       "      <td>0.002855</td>\n",
       "    </tr>\n",
       "    <tr>\n",
       "      <th>2</th>\n",
       "      <td>0.003007</td>\n",
       "    </tr>\n",
       "    <tr>\n",
       "      <th>3</th>\n",
       "      <td>0.005171</td>\n",
       "    </tr>\n",
       "    <tr>\n",
       "      <th>4</th>\n",
       "      <td>0.001213</td>\n",
       "    </tr>\n",
       "  </tbody>\n",
       "</table>\n",
       "</div>"
      ],
      "text/plain": [
       "   PaidStarPerWatchedHour\n",
       "0                0.004113\n",
       "1                0.002855\n",
       "2                0.003007\n",
       "3                0.005171\n",
       "4                0.001213"
      ]
     },
     "metadata": {},
     "output_type": "display_data"
    }
   ],
   "source": [
    "display(Label.head())"
   ]
  },
  {
   "cell_type": "code",
   "execution_count": 22,
   "metadata": {},
   "outputs": [],
   "source": [
    "df_Core = df_Core.join(Label)"
   ]
  },
  {
   "cell_type": "code",
   "execution_count": 23,
   "metadata": {},
   "outputs": [
    {
     "data": {
      "text/html": [
       "<div>\n",
       "<style scoped>\n",
       "    .dataframe tbody tr th:only-of-type {\n",
       "        vertical-align: middle;\n",
       "    }\n",
       "\n",
       "    .dataframe tbody tr th {\n",
       "        vertical-align: top;\n",
       "    }\n",
       "\n",
       "    .dataframe thead th {\n",
       "        text-align: right;\n",
       "    }\n",
       "</style>\n",
       "<table border=\"1\" class=\"dataframe\">\n",
       "  <thead>\n",
       "    <tr style=\"text-align: right;\">\n",
       "      <th></th>\n",
       "      <th>Country</th>\n",
       "      <th>Gender</th>\n",
       "      <th>Game</th>\n",
       "      <th>Total Follower</th>\n",
       "      <th>Broadcast Hours</th>\n",
       "      <th>MBTI_grouped</th>\n",
       "      <th>PaidStarPerWatchedHour</th>\n",
       "    </tr>\n",
       "  </thead>\n",
       "  <tbody>\n",
       "    <tr>\n",
       "      <th>0</th>\n",
       "      <td>ID</td>\n",
       "      <td>Male</td>\n",
       "      <td>MLBB</td>\n",
       "      <td>96751</td>\n",
       "      <td>104</td>\n",
       "      <td>INT</td>\n",
       "      <td>0.004113</td>\n",
       "    </tr>\n",
       "    <tr>\n",
       "      <th>1</th>\n",
       "      <td>ID</td>\n",
       "      <td>Male</td>\n",
       "      <td>8 Ball Pool</td>\n",
       "      <td>4781</td>\n",
       "      <td>174</td>\n",
       "      <td>INT</td>\n",
       "      <td>0.002855</td>\n",
       "    </tr>\n",
       "    <tr>\n",
       "      <th>2</th>\n",
       "      <td>ID</td>\n",
       "      <td>Female</td>\n",
       "      <td>Free Fire - Battlegrounds</td>\n",
       "      <td>68246</td>\n",
       "      <td>83</td>\n",
       "      <td>IST</td>\n",
       "      <td>0.003007</td>\n",
       "    </tr>\n",
       "    <tr>\n",
       "      <th>3</th>\n",
       "      <td>ID</td>\n",
       "      <td>Male</td>\n",
       "      <td>MLBB</td>\n",
       "      <td>142037</td>\n",
       "      <td>127</td>\n",
       "      <td>ENT</td>\n",
       "      <td>0.005171</td>\n",
       "    </tr>\n",
       "    <tr>\n",
       "      <th>4</th>\n",
       "      <td>ID</td>\n",
       "      <td>Male</td>\n",
       "      <td>Free Fire - Battlegrounds</td>\n",
       "      <td>15416</td>\n",
       "      <td>86</td>\n",
       "      <td>ISF</td>\n",
       "      <td>0.001213</td>\n",
       "    </tr>\n",
       "  </tbody>\n",
       "</table>\n",
       "</div>"
      ],
      "text/plain": [
       "  Country  Gender                       Game  Total Follower  Broadcast Hours  \\\n",
       "0      ID    Male                       MLBB           96751              104   \n",
       "1      ID    Male                8 Ball Pool            4781              174   \n",
       "2      ID  Female  Free Fire - Battlegrounds           68246               83   \n",
       "3      ID    Male                       MLBB          142037              127   \n",
       "4      ID    Male  Free Fire - Battlegrounds           15416               86   \n",
       "\n",
       "  MBTI_grouped  PaidStarPerWatchedHour  \n",
       "0          INT                0.004113  \n",
       "1          INT                0.002855  \n",
       "2          IST                0.003007  \n",
       "3          ENT                0.005171  \n",
       "4          ISF                0.001213  "
      ]
     },
     "metadata": {},
     "output_type": "display_data"
    }
   ],
   "source": [
    "display(df_Core.head())"
   ]
  },
  {
   "cell_type": "markdown",
   "metadata": {},
   "source": [
    "#### Data Analysis : Correlation Gender & Label"
   ]
  },
  {
   "cell_type": "code",
   "execution_count": 24,
   "metadata": {},
   "outputs": [
    {
     "data": {
      "image/png": "[encoded data removed]",
      "text/plain": [
       "<Figure size 1080x504 with 2 Axes>"
      ]
     },
     "metadata": {},
     "output_type": "display_data"
    }
   ],
   "source": [
    "Gender_PaidStartPerWatchedHour = [\"Gender\",\"PaidStarPerWatchedHour\"]\n",
    "df_Gender_PaidStartPerWatchedHour = df_Core.groupby([\"Gender\"]).agg({\n",
    "                                                                                            \"Gender\":\"count\",\n",
    "                                                                                            \"PaidStarPerWatchedHour\":\"sum\"\n",
    "                                                                                          })\n",
    "# display(df_Gender_PaidStartPerWatchedHour[\"Gender\"])\n",
    "# display(df_Gender_PaidStartPerWatchedHour[\"PaidStarPerWatchedHour\"])\n",
    "\n",
    "def autopct(pct, data, column):\n",
    "  if column == \"Gender\":\n",
    "    absolute_value = int(pct/100*np.sum(data))\n",
    "    return \"{:0.2f}%\\n({:d} Users)\".format(pct, absolute_value)\n",
    "  else:\n",
    "    absolute_value = float(pct/100*np.sum(data))\n",
    "    return \"{:0.2f}%\\n({:0.5f})\".format(pct, absolute_value)\n",
    "\n",
    "palette = sns.color_palette(\"bright\")\n",
    "\n",
    "fig, axs = plt.subplots(1,2, figsize=(15, 7))\n",
    "for i, column in enumerate(Gender_PaidStartPerWatchedHour):\n",
    "    patches, texts, pcts = axs[i].pie(\n",
    "                                      x=df_Gender_PaidStartPerWatchedHour[column],\n",
    "                                      labels=df_Gender_PaidStartPerWatchedHour.index,\n",
    "                                      autopct=lambda pct:autopct(pct, df_Gender_PaidStartPerWatchedHour[column], column),\n",
    "                                      textprops={\n",
    "                                                 \"size\" : 15,\n",
    "                                                 \"color\" : \"white\"\n",
    "                                                },\n",
    "                                      wedgeprops={\n",
    "                                                 \"linewidth\" : 2,\n",
    "                                                 \"edgecolor\" : \"white\"\n",
    "                                                },\n",
    "                                      colors=palette\n",
    "                                     )\n",
    "    for y, patch in enumerate(patches):\n",
    "      texts[y].set_color(patch.get_facecolor())\n",
    "\n",
    "    axs[0].set_title(\"Composition of User\\nby Gender\",fontsize=20, fontweight=\"bold\", color=\"orange\")\n",
    "    axs[1].set_title(\"Composition of Total PaidStartPerWatchedHour\\nby Gender\",fontsize=20, fontweight=\"bold\", color=\"orange\")\n",
    "\n",
    "    plt.setp(texts, fontweight=\"bold\")\n",
    "    \n",
    "plt.tight_layout()\n",
    "plt.show()"
   ]
  },
  {
   "cell_type": "markdown",
   "metadata": {},
   "source": [
    "#### Data Analysis : Correlation Country & Label"
   ]
  },
  {
   "cell_type": "code",
   "execution_count": 25,
   "metadata": {},
   "outputs": [
    {
     "data": {
      "image/png": "[encoded data removed]",
      "text/plain": [
       "<Figure size 1080x504 with 2 Axes>"
      ]
     },
     "metadata": {},
     "output_type": "display_data"
    }
   ],
   "source": [
    "Country_PaidStartPerWatchedHour = [\"Country\",\"PaidStarPerWatchedHour\"]\n",
    "df_Country_PaidStartPerWatchedHour = df_Core.groupby([\"Country\"]).agg({\n",
    "                                                                                            \"Country\":\"count\",\n",
    "                                                                                            \"PaidStarPerWatchedHour\":\"sum\"\n",
    "                                                                                          })\n",
    "# display(df_Country_PaidStartPerWatchedHour[\"Country\"])\n",
    "# display(df_Country_PaidStartPerWatchedHour[\"PaidStarPerWatchedHour\"])\n",
    "\n",
    "def autopct(pct, data, column):\n",
    "  if column == \"Country\":\n",
    "    absolute_value = int(pct/100*np.sum(data))\n",
    "    return \"{:0.2f}%\\n({:d} Users)\".format(pct, absolute_value)\n",
    "  else:\n",
    "    absolute_value = float(pct/100*np.sum(data))\n",
    "    return \"{:0.2f}%\\n({:0.5f})\".format(pct, absolute_value)\n",
    "\n",
    "palette = sns.color_palette(\"bright\")\n",
    "\n",
    "fig, axs = plt.subplots(1,2, figsize=(15, 7))\n",
    "for i, column in enumerate(Country_PaidStartPerWatchedHour):\n",
    "    patches, texts, pcts = axs[i].pie(\n",
    "                                      x=df_Country_PaidStartPerWatchedHour[column],\n",
    "                                      labels=df_Country_PaidStartPerWatchedHour.index,\n",
    "                                      autopct=lambda pct:autopct(pct, df_Country_PaidStartPerWatchedHour[column], column),\n",
    "                                      textprops={\n",
    "                                                 \"size\" : 15,\n",
    "                                                 \"color\" : \"white\"\n",
    "                                                },\n",
    "                                      wedgeprops={\n",
    "                                                 \"linewidth\" : 2,\n",
    "                                                 \"edgecolor\" : \"white\"\n",
    "                                                },\n",
    "                                      colors=palette\n",
    "                                     )\n",
    "    for y, patch in enumerate(patches):\n",
    "      texts[y].set_color(patch.get_facecolor())\n",
    "\n",
    "    axs[0].set_title(\"Composition of User\\nby Country\",fontsize=20, fontweight=\"bold\", color=\"orange\")\n",
    "    axs[1].set_title(\"Composition of Total PaidStartPerWatchedHour\\nby Country\",fontsize=20, fontweight=\"bold\", color=\"orange\")\n",
    "\n",
    "    plt.setp(texts, fontweight=\"bold\")\n",
    "    \n",
    "plt.tight_layout()\n",
    "plt.show()"
   ]
  },
  {
   "cell_type": "code",
   "execution_count": 26,
   "metadata": {},
   "outputs": [
    {
     "data": {
      "image/png": "[encoded data removed]",
      "text/plain": [
       "<Figure size 1080x504 with 2 Axes>"
      ]
     },
     "metadata": {},
     "output_type": "display_data"
    }
   ],
   "source": [
    "Country_PaidStartPerWatchedHour = [\"Country\",\"PaidStarPerWatchedHour\"]\n",
    "df_Country_PaidStartPerWatchedHour = df_Core.groupby([\"Country\"]).agg({\n",
    "                                                                                            \"Country\":\"count\",\n",
    "                                                                                            \"PaidStarPerWatchedHour\":\"sum\"\n",
    "                                                                                          })\n",
    "# display(df_Country_PaidStartPerWatchedHour[\"Country\"])\n",
    "# display(df_Country_PaidStartPerWatchedHour[\"PaidStarPerWatchedHour\"])\n",
    "\n",
    "def autopct(pct, data, column):\n",
    "  if column == \"Country\":\n",
    "    absolute_value = int(pct/100*np.sum(data))\n",
    "    return \"{:0.2f}%\\n({:d} Users)\".format(pct, absolute_value)\n",
    "  else:\n",
    "    absolute_value = float(pct/100*np.sum(data))\n",
    "    return \"{:0.2f}%\\n({:0.5f})\".format(pct, absolute_value)\n",
    "\n",
    "palette = sns.color_palette(\"bright\")\n",
    "\n",
    "fig, axs = plt.subplots(1,2, figsize=(15, 7))\n",
    "for i, column in enumerate(Country_PaidStartPerWatchedHour):\n",
    "    patches, texts, pcts = axs[i].pie(\n",
    "                                      x=df_Country_PaidStartPerWatchedHour[column],\n",
    "                                      labels=df_Country_PaidStartPerWatchedHour.index,\n",
    "                                      autopct=lambda pct:autopct(pct, df_Country_PaidStartPerWatchedHour[column], column),\n",
    "                                      textprops={\n",
    "                                                 \"size\" : 15,\n",
    "                                                 \"color\" : \"white\"\n",
    "                                                },\n",
    "                                      wedgeprops={\n",
    "                                                 \"linewidth\" : 2,\n",
    "                                                 \"edgecolor\" : \"white\"\n",
    "                                                },\n",
    "                                      colors=palette\n",
    "                                     )\n",
    "    for y, patch in enumerate(patches):\n",
    "      texts[y].set_color(patch.get_facecolor())\n",
    "\n",
    "    axs[0].set_title(\"Composition of User\\nby Country\",fontsize=20, fontweight=\"bold\", color=\"orange\")\n",
    "    axs[1].set_title(\"Composition of Total PaidStartPerWatchedHour\\nby Country\",fontsize=20, fontweight=\"bold\", color=\"orange\")\n",
    "\n",
    "    plt.setp(texts, fontweight=\"bold\")\n",
    "    \n",
    "plt.tight_layout()\n",
    "plt.show()"
   ]
  },
  {
   "cell_type": "markdown",
   "metadata": {},
   "source": [
    "#### Data Analysis : Correlation Game & Label"
   ]
  },
  {
   "cell_type": "code",
   "execution_count": 32,
   "metadata": {},
   "outputs": [
    {
     "data": {
      "text/html": [
       "<div>\n",
       "<style scoped>\n",
       "    .dataframe tbody tr th:only-of-type {\n",
       "        vertical-align: middle;\n",
       "    }\n",
       "\n",
       "    .dataframe tbody tr th {\n",
       "        vertical-align: top;\n",
       "    }\n",
       "\n",
       "    .dataframe thead th {\n",
       "        text-align: right;\n",
       "    }\n",
       "</style>\n",
       "<table border=\"1\" class=\"dataframe\">\n",
       "  <thead>\n",
       "    <tr style=\"text-align: right;\">\n",
       "      <th></th>\n",
       "      <th>Country</th>\n",
       "      <th>Gender</th>\n",
       "      <th>Game</th>\n",
       "      <th>Total Follower</th>\n",
       "      <th>Broadcast Hours</th>\n",
       "      <th>MBTI_grouped</th>\n",
       "      <th>PaidStarPerWatchedHour</th>\n",
       "    </tr>\n",
       "  </thead>\n",
       "  <tbody>\n",
       "    <tr>\n",
       "      <th>0</th>\n",
       "      <td>ID</td>\n",
       "      <td>Male</td>\n",
       "      <td>MLBB</td>\n",
       "      <td>96751</td>\n",
       "      <td>104</td>\n",
       "      <td>INT</td>\n",
       "      <td>0.004113</td>\n",
       "    </tr>\n",
       "    <tr>\n",
       "      <th>1</th>\n",
       "      <td>ID</td>\n",
       "      <td>Male</td>\n",
       "      <td>8 Ball Pool</td>\n",
       "      <td>4781</td>\n",
       "      <td>174</td>\n",
       "      <td>INT</td>\n",
       "      <td>0.002855</td>\n",
       "    </tr>\n",
       "    <tr>\n",
       "      <th>2</th>\n",
       "      <td>ID</td>\n",
       "      <td>Female</td>\n",
       "      <td>Free Fire - Battlegrounds</td>\n",
       "      <td>68246</td>\n",
       "      <td>83</td>\n",
       "      <td>IST</td>\n",
       "      <td>0.003007</td>\n",
       "    </tr>\n",
       "    <tr>\n",
       "      <th>3</th>\n",
       "      <td>ID</td>\n",
       "      <td>Male</td>\n",
       "      <td>MLBB</td>\n",
       "      <td>142037</td>\n",
       "      <td>127</td>\n",
       "      <td>ENT</td>\n",
       "      <td>0.005171</td>\n",
       "    </tr>\n",
       "    <tr>\n",
       "      <th>4</th>\n",
       "      <td>ID</td>\n",
       "      <td>Male</td>\n",
       "      <td>Free Fire - Battlegrounds</td>\n",
       "      <td>15416</td>\n",
       "      <td>86</td>\n",
       "      <td>ISF</td>\n",
       "      <td>0.001213</td>\n",
       "    </tr>\n",
       "  </tbody>\n",
       "</table>\n",
       "</div>"
      ],
      "text/plain": [
       "  Country  Gender                       Game  Total Follower  Broadcast Hours  \\\n",
       "0      ID    Male                       MLBB           96751              104   \n",
       "1      ID    Male                8 Ball Pool            4781              174   \n",
       "2      ID  Female  Free Fire - Battlegrounds           68246               83   \n",
       "3      ID    Male                       MLBB          142037              127   \n",
       "4      ID    Male  Free Fire - Battlegrounds           15416               86   \n",
       "\n",
       "  MBTI_grouped  PaidStarPerWatchedHour  \n",
       "0          INT                0.004113  \n",
       "1          INT                0.002855  \n",
       "2          IST                0.003007  \n",
       "3          ENT                0.005171  \n",
       "4          ISF                0.001213  "
      ]
     },
     "metadata": {},
     "output_type": "display_data"
    }
   ],
   "source": [
    "df_Core_games_star = df_Core.copy()\n",
    "display(df_Core_games_star.head())"
   ]
  },
  {
   "cell_type": "code",
   "execution_count": 40,
   "metadata": {},
   "outputs": [
    {
     "data": {
      "text/html": [
       "<div>\n",
       "<style scoped>\n",
       "    .dataframe tbody tr th:only-of-type {\n",
       "        vertical-align: middle;\n",
       "    }\n",
       "\n",
       "    .dataframe tbody tr th {\n",
       "        vertical-align: top;\n",
       "    }\n",
       "\n",
       "    .dataframe thead th {\n",
       "        text-align: right;\n",
       "    }\n",
       "</style>\n",
       "<table border=\"1\" class=\"dataframe\">\n",
       "  <thead>\n",
       "    <tr style=\"text-align: right;\">\n",
       "      <th></th>\n",
       "      <th>Game</th>\n",
       "      <th>PaidStarPerWatchedHour</th>\n",
       "    </tr>\n",
       "  </thead>\n",
       "  <tbody>\n",
       "    <tr>\n",
       "      <th>32</th>\n",
       "      <td>League of Legends</td>\n",
       "      <td>3.182587</td>\n",
       "    </tr>\n",
       "    <tr>\n",
       "      <th>36</th>\n",
       "      <td>MLBB</td>\n",
       "      <td>1.421890</td>\n",
       "    </tr>\n",
       "    <tr>\n",
       "      <th>45</th>\n",
       "      <td>PUBG</td>\n",
       "      <td>0.812526</td>\n",
       "    </tr>\n",
       "    <tr>\n",
       "      <th>20</th>\n",
       "      <td>Dota 2</td>\n",
       "      <td>0.375952</td>\n",
       "    </tr>\n",
       "    <tr>\n",
       "      <th>3</th>\n",
       "      <td>Apex Legends</td>\n",
       "      <td>0.296917</td>\n",
       "    </tr>\n",
       "    <tr>\n",
       "      <th>58</th>\n",
       "      <td>Valorant</td>\n",
       "      <td>0.218816</td>\n",
       "    </tr>\n",
       "    <tr>\n",
       "      <th>28</th>\n",
       "      <td>Grand Theft Auto V</td>\n",
       "      <td>0.179609</td>\n",
       "    </tr>\n",
       "    <tr>\n",
       "      <th>25</th>\n",
       "      <td>Free Fire - Battlegrounds</td>\n",
       "      <td>0.117478</td>\n",
       "    </tr>\n",
       "    <tr>\n",
       "      <th>29</th>\n",
       "      <td>Green Hell</td>\n",
       "      <td>0.105561</td>\n",
       "    </tr>\n",
       "    <tr>\n",
       "      <th>4</th>\n",
       "      <td>Arena of Valor</td>\n",
       "      <td>0.094968</td>\n",
       "    </tr>\n",
       "  </tbody>\n",
       "</table>\n",
       "</div>"
      ],
      "text/plain": [
       "                         Game  PaidStarPerWatchedHour\n",
       "32          League of Legends                3.182587\n",
       "36                       MLBB                1.421890\n",
       "45                       PUBG                0.812526\n",
       "20                     Dota 2                0.375952\n",
       "3                Apex Legends                0.296917\n",
       "58                   Valorant                0.218816\n",
       "28         Grand Theft Auto V                0.179609\n",
       "25  Free Fire - Battlegrounds                0.117478\n",
       "29                 Green Hell                0.105561\n",
       "4              Arena of Valor                0.094968"
      ]
     },
     "metadata": {},
     "output_type": "display_data"
    }
   ],
   "source": [
    "df_top_game_star = df_Core_games_star.groupby([\"Game\"])[\"PaidStarPerWatchedHour\"].sum().reset_index().sort_values(by=\"PaidStarPerWatchedHour\", ascending=False).head(10)\n",
    "display(df_top_game_star)"
   ]
  },
  {
   "cell_type": "code",
   "execution_count": 56,
   "metadata": {},
   "outputs": [
    {
     "data": {
      "image/png": "[encoded data removed]",
      "text/plain": [
       "<Figure size 864x504 with 1 Axes>"
      ]
     },
     "metadata": {
      "needs_background": "light"
     },
     "output_type": "display_data"
    }
   ],
   "source": [
    "fig, axs = plt.subplots(figsize=(12, 7))\n",
    "palette = sns.color_palette(\"bright\")\n",
    "sns.barplot(data=df_top_game_star, x=\"Game\", y=\"PaidStarPerWatchedHour\", palette=palette, ax=axs)\n",
    "axs.set_title(\"Top 10 Games Star\", fontsize=20, fontweight=\"bold\",color=\"orange\", loc=\"left\", pad=20)\n",
    "axs.set_xticklabels(axs.get_xticklabels(), rotation=15)\n",
    "axs.set_xlabel(\"Top 10 Games Star\", fontsize=15)\n",
    "axs.yaxis.set_visible(False)\n",
    "axs.set_ylabel(None)\n",
    "for p in axs.patches:\n",
    "    height = p.get_height()\n",
    "    width = p.get_width()\n",
    "    x = p.get_x()\n",
    "    y = p.get_y()\n",
    "    axs.annotate(\n",
    "                 \"{:0.5f}\".format(height),\n",
    "                 xy=(x + width/2, height),\n",
    "                 ha=\"center\",\n",
    "                 va=\"center\",\n",
    "                 xytext=(0, 10),\n",
    "                 textcoords=\"offset points\"\n",
    "                )\n",
    "sns.despine(left=True, top=True, right=True)\n",
    "plt.tight_layout()\n",
    "plt.show()"
   ]
  },
  {
   "cell_type": "code",
   "execution_count": 27,
   "metadata": {},
   "outputs": [
    {
     "data": {
      "text/html": [
       "<div>\n",
       "<style scoped>\n",
       "    .dataframe tbody tr th:only-of-type {\n",
       "        vertical-align: middle;\n",
       "    }\n",
       "\n",
       "    .dataframe tbody tr th {\n",
       "        vertical-align: top;\n",
       "    }\n",
       "\n",
       "    .dataframe thead th {\n",
       "        text-align: right;\n",
       "    }\n",
       "</style>\n",
       "<table border=\"1\" class=\"dataframe\">\n",
       "  <thead>\n",
       "    <tr style=\"text-align: right;\">\n",
       "      <th></th>\n",
       "      <th>Country</th>\n",
       "      <th>Gender</th>\n",
       "      <th>Game</th>\n",
       "      <th>Total Follower</th>\n",
       "      <th>Broadcast Hours</th>\n",
       "      <th>MBTI_grouped</th>\n",
       "      <th>PaidStarPerWatchedHour</th>\n",
       "    </tr>\n",
       "  </thead>\n",
       "  <tbody>\n",
       "    <tr>\n",
       "      <th>0</th>\n",
       "      <td>ID</td>\n",
       "      <td>Male</td>\n",
       "      <td>MLBB</td>\n",
       "      <td>96751</td>\n",
       "      <td>104</td>\n",
       "      <td>INT</td>\n",
       "      <td>0.004113</td>\n",
       "    </tr>\n",
       "    <tr>\n",
       "      <th>1</th>\n",
       "      <td>ID</td>\n",
       "      <td>Male</td>\n",
       "      <td>8 Ball Pool</td>\n",
       "      <td>4781</td>\n",
       "      <td>174</td>\n",
       "      <td>INT</td>\n",
       "      <td>0.002855</td>\n",
       "    </tr>\n",
       "    <tr>\n",
       "      <th>2</th>\n",
       "      <td>ID</td>\n",
       "      <td>Female</td>\n",
       "      <td>Free Fire - Battlegrounds</td>\n",
       "      <td>68246</td>\n",
       "      <td>83</td>\n",
       "      <td>IST</td>\n",
       "      <td>0.003007</td>\n",
       "    </tr>\n",
       "    <tr>\n",
       "      <th>3</th>\n",
       "      <td>ID</td>\n",
       "      <td>Male</td>\n",
       "      <td>MLBB</td>\n",
       "      <td>142037</td>\n",
       "      <td>127</td>\n",
       "      <td>ENT</td>\n",
       "      <td>0.005171</td>\n",
       "    </tr>\n",
       "    <tr>\n",
       "      <th>4</th>\n",
       "      <td>ID</td>\n",
       "      <td>Male</td>\n",
       "      <td>Free Fire - Battlegrounds</td>\n",
       "      <td>15416</td>\n",
       "      <td>86</td>\n",
       "      <td>ISF</td>\n",
       "      <td>0.001213</td>\n",
       "    </tr>\n",
       "  </tbody>\n",
       "</table>\n",
       "</div>"
      ],
      "text/plain": [
       "  Country  Gender                       Game  Total Follower  Broadcast Hours  \\\n",
       "0      ID    Male                       MLBB           96751              104   \n",
       "1      ID    Male                8 Ball Pool            4781              174   \n",
       "2      ID  Female  Free Fire - Battlegrounds           68246               83   \n",
       "3      ID    Male                       MLBB          142037              127   \n",
       "4      ID    Male  Free Fire - Battlegrounds           15416               86   \n",
       "\n",
       "  MBTI_grouped  PaidStarPerWatchedHour  \n",
       "0          INT                0.004113  \n",
       "1          INT                0.002855  \n",
       "2          IST                0.003007  \n",
       "3          ENT                0.005171  \n",
       "4          ISF                0.001213  "
      ]
     },
     "metadata": {},
     "output_type": "display_data"
    }
   ],
   "source": [
    "df_Core_games = df_Core.copy()\n",
    "display(df_Core_games.head())"
   ]
  },
  {
   "cell_type": "markdown",
   "metadata": {},
   "source": [
    "##### Making Features top_17_games_popular"
   ]
  },
  {
   "cell_type": "code",
   "execution_count": 28,
   "metadata": {},
   "outputs": [
    {
     "data": {
      "text/plain": [
       "['MLBB',\n",
       " 'PUBG',\n",
       " 'Free Fire - Battlegrounds',\n",
       " 'Arena of Valor',\n",
       " 'League of Legends',\n",
       " 'Age of Empires',\n",
       " 'Grand Theft Auto V',\n",
       " 'Dota 2',\n",
       " 'Crossfire',\n",
       " 'Worms Zone',\n",
       " 'Garena Liên Quân Mobile',\n",
       " 'Valorant',\n",
       " 'Wormate.io',\n",
       " 'Euro Truck Simulator 2',\n",
       " 'Counter-Strike: Global Offensive',\n",
       " 'Coin Master',\n",
       " 'eFootball PES 2020']"
      ]
     },
     "metadata": {},
     "output_type": "display_data"
    }
   ],
   "source": [
    "top_17_games_popular_columns = df_Core_games[\"Game\"].value_counts().head(17).index.to_list()\n",
    "display(top_17_games_popular_columns)"
   ]
  },
  {
   "cell_type": "code",
   "execution_count": 29,
   "metadata": {},
   "outputs": [
    {
     "data": {
      "text/html": [
       "<div>\n",
       "<style scoped>\n",
       "    .dataframe tbody tr th:only-of-type {\n",
       "        vertical-align: middle;\n",
       "    }\n",
       "\n",
       "    .dataframe tbody tr th {\n",
       "        vertical-align: top;\n",
       "    }\n",
       "\n",
       "    .dataframe thead th {\n",
       "        text-align: right;\n",
       "    }\n",
       "</style>\n",
       "<table border=\"1\" class=\"dataframe\">\n",
       "  <thead>\n",
       "    <tr style=\"text-align: right;\">\n",
       "      <th></th>\n",
       "      <th>Country</th>\n",
       "      <th>Gender</th>\n",
       "      <th>Game</th>\n",
       "      <th>Total Follower</th>\n",
       "      <th>Broadcast Hours</th>\n",
       "      <th>MBTI_grouped</th>\n",
       "      <th>PaidStarPerWatchedHour</th>\n",
       "      <th>top_17_games</th>\n",
       "    </tr>\n",
       "  </thead>\n",
       "  <tbody>\n",
       "    <tr>\n",
       "      <th>0</th>\n",
       "      <td>ID</td>\n",
       "      <td>Male</td>\n",
       "      <td>MLBB</td>\n",
       "      <td>96751</td>\n",
       "      <td>104</td>\n",
       "      <td>INT</td>\n",
       "      <td>0.004113</td>\n",
       "      <td>MLBB</td>\n",
       "    </tr>\n",
       "    <tr>\n",
       "      <th>1</th>\n",
       "      <td>ID</td>\n",
       "      <td>Male</td>\n",
       "      <td>8 Ball Pool</td>\n",
       "      <td>4781</td>\n",
       "      <td>174</td>\n",
       "      <td>INT</td>\n",
       "      <td>0.002855</td>\n",
       "      <td>Unpopular Game</td>\n",
       "    </tr>\n",
       "    <tr>\n",
       "      <th>2</th>\n",
       "      <td>ID</td>\n",
       "      <td>Female</td>\n",
       "      <td>Free Fire - Battlegrounds</td>\n",
       "      <td>68246</td>\n",
       "      <td>83</td>\n",
       "      <td>IST</td>\n",
       "      <td>0.003007</td>\n",
       "      <td>Free Fire - Battlegrounds</td>\n",
       "    </tr>\n",
       "    <tr>\n",
       "      <th>3</th>\n",
       "      <td>ID</td>\n",
       "      <td>Male</td>\n",
       "      <td>MLBB</td>\n",
       "      <td>142037</td>\n",
       "      <td>127</td>\n",
       "      <td>ENT</td>\n",
       "      <td>0.005171</td>\n",
       "      <td>MLBB</td>\n",
       "    </tr>\n",
       "    <tr>\n",
       "      <th>4</th>\n",
       "      <td>ID</td>\n",
       "      <td>Male</td>\n",
       "      <td>Free Fire - Battlegrounds</td>\n",
       "      <td>15416</td>\n",
       "      <td>86</td>\n",
       "      <td>ISF</td>\n",
       "      <td>0.001213</td>\n",
       "      <td>Free Fire - Battlegrounds</td>\n",
       "    </tr>\n",
       "    <tr>\n",
       "      <th>5</th>\n",
       "      <td>ID</td>\n",
       "      <td>Male</td>\n",
       "      <td>PUBG</td>\n",
       "      <td>8993</td>\n",
       "      <td>136</td>\n",
       "      <td>ENT</td>\n",
       "      <td>0.003492</td>\n",
       "      <td>PUBG</td>\n",
       "    </tr>\n",
       "    <tr>\n",
       "      <th>6</th>\n",
       "      <td>ID</td>\n",
       "      <td>Male</td>\n",
       "      <td>8 Ball Pool</td>\n",
       "      <td>3477</td>\n",
       "      <td>96</td>\n",
       "      <td>ENT</td>\n",
       "      <td>0.001151</td>\n",
       "      <td>Unpopular Game</td>\n",
       "    </tr>\n",
       "    <tr>\n",
       "      <th>7</th>\n",
       "      <td>ID</td>\n",
       "      <td>Male</td>\n",
       "      <td>PUBG</td>\n",
       "      <td>9321</td>\n",
       "      <td>150</td>\n",
       "      <td>ENT</td>\n",
       "      <td>0.013541</td>\n",
       "      <td>PUBG</td>\n",
       "    </tr>\n",
       "    <tr>\n",
       "      <th>8</th>\n",
       "      <td>ID</td>\n",
       "      <td>Female</td>\n",
       "      <td>MLBB</td>\n",
       "      <td>21967</td>\n",
       "      <td>92</td>\n",
       "      <td>IST</td>\n",
       "      <td>0.001085</td>\n",
       "      <td>MLBB</td>\n",
       "    </tr>\n",
       "    <tr>\n",
       "      <th>9</th>\n",
       "      <td>ID</td>\n",
       "      <td>Female</td>\n",
       "      <td>Free Fire - Battlegrounds</td>\n",
       "      <td>67213</td>\n",
       "      <td>171</td>\n",
       "      <td>IST</td>\n",
       "      <td>0.002285</td>\n",
       "      <td>Free Fire - Battlegrounds</td>\n",
       "    </tr>\n",
       "  </tbody>\n",
       "</table>\n",
       "</div>"
      ],
      "text/plain": [
       "  Country  Gender                       Game  Total Follower  Broadcast Hours  \\\n",
       "0      ID    Male                       MLBB           96751              104   \n",
       "1      ID    Male                8 Ball Pool            4781              174   \n",
       "2      ID  Female  Free Fire - Battlegrounds           68246               83   \n",
       "3      ID    Male                       MLBB          142037              127   \n",
       "4      ID    Male  Free Fire - Battlegrounds           15416               86   \n",
       "5      ID    Male                       PUBG            8993              136   \n",
       "6      ID    Male                8 Ball Pool            3477               96   \n",
       "7      ID    Male                       PUBG            9321              150   \n",
       "8      ID  Female                       MLBB           21967               92   \n",
       "9      ID  Female  Free Fire - Battlegrounds           67213              171   \n",
       "\n",
       "  MBTI_grouped  PaidStarPerWatchedHour               top_17_games  \n",
       "0          INT                0.004113                       MLBB  \n",
       "1          INT                0.002855             Unpopular Game  \n",
       "2          IST                0.003007  Free Fire - Battlegrounds  \n",
       "3          ENT                0.005171                       MLBB  \n",
       "4          ISF                0.001213  Free Fire - Battlegrounds  \n",
       "5          ENT                0.003492                       PUBG  \n",
       "6          ENT                0.001151             Unpopular Game  \n",
       "7          ENT                0.013541                       PUBG  \n",
       "8          IST                0.001085                       MLBB  \n",
       "9          IST                0.002285  Free Fire - Battlegrounds  "
      ]
     },
     "metadata": {},
     "output_type": "display_data"
    }
   ],
   "source": [
    "df_Core_games[\"top_17_games\"] = df_Core_games[\"Game\"].apply(lambda x : x if x in top_17_games_popular_columns else \"Unpopular Game\")\n",
    "display(df_Core_games.head(10))"
   ]
  },
  {
   "cell_type": "code",
   "execution_count": 30,
   "metadata": {},
   "outputs": [
    {
     "data": {
      "text/html": [
       "<div>\n",
       "<style scoped>\n",
       "    .dataframe tbody tr th:only-of-type {\n",
       "        vertical-align: middle;\n",
       "    }\n",
       "\n",
       "    .dataframe tbody tr th {\n",
       "        vertical-align: top;\n",
       "    }\n",
       "\n",
       "    .dataframe thead th {\n",
       "        text-align: right;\n",
       "    }\n",
       "</style>\n",
       "<table border=\"1\" class=\"dataframe\">\n",
       "  <thead>\n",
       "    <tr style=\"text-align: right;\">\n",
       "      <th></th>\n",
       "      <th>top_17_games</th>\n",
       "      <th>count_games</th>\n",
       "      <th>PaidStarPerWatchedHour</th>\n",
       "    </tr>\n",
       "  </thead>\n",
       "  <tbody>\n",
       "    <tr>\n",
       "      <th>0</th>\n",
       "      <td>MLBB</td>\n",
       "      <td>150</td>\n",
       "      <td>1.421890</td>\n",
       "    </tr>\n",
       "    <tr>\n",
       "      <th>1</th>\n",
       "      <td>PUBG</td>\n",
       "      <td>117</td>\n",
       "      <td>0.812526</td>\n",
       "    </tr>\n",
       "    <tr>\n",
       "      <th>2</th>\n",
       "      <td>Unpopular Game</td>\n",
       "      <td>83</td>\n",
       "      <td>0.822428</td>\n",
       "    </tr>\n",
       "    <tr>\n",
       "      <th>3</th>\n",
       "      <td>Free Fire - Battlegrounds</td>\n",
       "      <td>49</td>\n",
       "      <td>0.117478</td>\n",
       "    </tr>\n",
       "    <tr>\n",
       "      <th>4</th>\n",
       "      <td>Arena of Valor</td>\n",
       "      <td>42</td>\n",
       "      <td>0.094968</td>\n",
       "    </tr>\n",
       "    <tr>\n",
       "      <th>5</th>\n",
       "      <td>League of Legends</td>\n",
       "      <td>39</td>\n",
       "      <td>3.182587</td>\n",
       "    </tr>\n",
       "    <tr>\n",
       "      <th>6</th>\n",
       "      <td>Age of Empires</td>\n",
       "      <td>26</td>\n",
       "      <td>0.047965</td>\n",
       "    </tr>\n",
       "    <tr>\n",
       "      <th>7</th>\n",
       "      <td>Grand Theft Auto V</td>\n",
       "      <td>18</td>\n",
       "      <td>0.179609</td>\n",
       "    </tr>\n",
       "    <tr>\n",
       "      <th>8</th>\n",
       "      <td>Dota 2</td>\n",
       "      <td>14</td>\n",
       "      <td>0.375952</td>\n",
       "    </tr>\n",
       "    <tr>\n",
       "      <th>9</th>\n",
       "      <td>Crossfire</td>\n",
       "      <td>13</td>\n",
       "      <td>0.044810</td>\n",
       "    </tr>\n",
       "    <tr>\n",
       "      <th>10</th>\n",
       "      <td>Garena Liên Quân Mobile</td>\n",
       "      <td>12</td>\n",
       "      <td>0.075790</td>\n",
       "    </tr>\n",
       "    <tr>\n",
       "      <th>11</th>\n",
       "      <td>Worms Zone</td>\n",
       "      <td>12</td>\n",
       "      <td>0.057647</td>\n",
       "    </tr>\n",
       "    <tr>\n",
       "      <th>12</th>\n",
       "      <td>Valorant</td>\n",
       "      <td>9</td>\n",
       "      <td>0.218816</td>\n",
       "    </tr>\n",
       "    <tr>\n",
       "      <th>13</th>\n",
       "      <td>Euro Truck Simulator 2</td>\n",
       "      <td>8</td>\n",
       "      <td>0.016911</td>\n",
       "    </tr>\n",
       "    <tr>\n",
       "      <th>14</th>\n",
       "      <td>Counter-Strike: Global Offensive</td>\n",
       "      <td>8</td>\n",
       "      <td>0.034270</td>\n",
       "    </tr>\n",
       "    <tr>\n",
       "      <th>15</th>\n",
       "      <td>Wormate.io</td>\n",
       "      <td>8</td>\n",
       "      <td>0.022460</td>\n",
       "    </tr>\n",
       "    <tr>\n",
       "      <th>16</th>\n",
       "      <td>Coin Master</td>\n",
       "      <td>7</td>\n",
       "      <td>0.019453</td>\n",
       "    </tr>\n",
       "    <tr>\n",
       "      <th>17</th>\n",
       "      <td>eFootball PES 2020</td>\n",
       "      <td>6</td>\n",
       "      <td>0.005374</td>\n",
       "    </tr>\n",
       "  </tbody>\n",
       "</table>\n",
       "</div>"
      ],
      "text/plain": [
       "                        top_17_games  count_games  PaidStarPerWatchedHour\n",
       "0                               MLBB          150                1.421890\n",
       "1                               PUBG          117                0.812526\n",
       "2                     Unpopular Game           83                0.822428\n",
       "3          Free Fire - Battlegrounds           49                0.117478\n",
       "4                     Arena of Valor           42                0.094968\n",
       "5                  League of Legends           39                3.182587\n",
       "6                     Age of Empires           26                0.047965\n",
       "7                 Grand Theft Auto V           18                0.179609\n",
       "8                             Dota 2           14                0.375952\n",
       "9                          Crossfire           13                0.044810\n",
       "10           Garena Liên Quân Mobile           12                0.075790\n",
       "11                        Worms Zone           12                0.057647\n",
       "12                          Valorant            9                0.218816\n",
       "13            Euro Truck Simulator 2            8                0.016911\n",
       "14  Counter-Strike: Global Offensive            8                0.034270\n",
       "15                        Wormate.io            8                0.022460\n",
       "16                       Coin Master            7                0.019453\n",
       "17                eFootball PES 2020            6                0.005374"
      ]
     },
     "metadata": {},
     "output_type": "display_data"
    }
   ],
   "source": [
    "df_Core_top_17_games = df_Core_games.groupby([\"top_17_games\"]).agg({\n",
    "                                                                    \"top_17_games\":\"count\",\n",
    "                                                                    \"PaidStarPerWatchedHour\":\"sum\"\n",
    "                                                                  }).rename(columns={\"top_17_games\":\"count_games\"}).sort_values(by=\"count_games\", ascending=False).reset_index()\n",
    "display(df_Core_top_17_games.head(18)) "
   ]
  },
  {
   "cell_type": "code",
   "execution_count": 31,
   "metadata": {},
   "outputs": [
    {
     "data": {
      "image/png": "[encoded data removed]",
      "text/plain": [
       "<Figure size 1080x576 with 2 Axes>"
      ]
     },
     "metadata": {
      "needs_background": "light"
     },
     "output_type": "display_data"
    }
   ],
   "source": [
    "df_Core_top_17_games_columns = [\"count_games\",\"PaidStarPerWatchedHour\"]\n",
    "fig, axs = plt.subplots(1, 2, sharey=True, figsize=(15, 8))\n",
    "fig.suptitle(\"Correlation of Number of Gamers With PaidStarPerWatchedHour\", fontsize=25, fontweight=\"bold\", color=\"orange\")\n",
    "for i, column in enumerate(df_Core_top_17_games_columns):\n",
    "    sns.barplot(data=df_Core_top_17_games, x=column, y=\"top_17_games\",palette=\"bright\", ax=axs[i])\n",
    "    axs[i].tick_params(labelbottom=False, bottom=False)\n",
    "    if i == 0:\n",
    "        axs[i].set_xlim(reversed(axs[i].get_xlim()))\n",
    "        axs[i].yaxis.tick_right()\n",
    "    axs[i].xaxis.set_label_position(\"top\")\n",
    "    axs[i].set_xlabel(column, fontsize=20, fontweight=\"bold\", color=\"orange\")\n",
    "    axs[i].set_ylabel(None)\n",
    "\n",
    "    for p in axs[i].patches:\n",
    "        height = p.get_height()\n",
    "        width = p.get_width()\n",
    "        x = p.get_x()\n",
    "        y = p.get_y()\n",
    "        if i == 0:\n",
    "            axs[i].annotate(\n",
    "                            int(width),\n",
    "                            xy=(width, y+height/2),\n",
    "                            ha=\"center\",\n",
    "                            va=\"center\",\n",
    "                            xytext=(-15, 0),\n",
    "                            textcoords=\"offset points\"\n",
    "                            )\n",
    "        else:\n",
    "            axs[i].annotate(\n",
    "                            \"{:0.3f}\".format(width),\n",
    "                            xy=(width, y+height/2),\n",
    "                            ha=\"center\",\n",
    "                            va=\"center\",\n",
    "                            xytext=(20, 0),\n",
    "                            textcoords=\"offset points\"\n",
    "                            )\n",
    "sns.despine(left=True, bottom=True)\n",
    "plt.tight_layout()\n",
    "plt.show()"
   ]
  },
  {
   "cell_type": "code",
   "execution_count": null,
   "metadata": {},
   "outputs": [],
   "source": []
  }
 ],
 "metadata": {
  "interpreter": {
   "hash": "a735e8d5f2ebeae8eff3c40d8a94f415263963b10ae3464c60988cc9ac0e5420"
  },
  "kernelspec": {
   "display_name": "Python 3.8.10 64-bit",
   "language": "python",
   "name": "python3"
  },
  "language_info": {
   "codemirror_mode": {
    "name": "ipython",
    "version": 3
   },
   "file_extension": ".py",
   "mimetype": "text/x-python",
   "name": "python",
   "nbconvert_exporter": "python",
   "pygments_lexer": "ipython3",
   "version": "3.8.10"
  },
  "orig_nbformat": 4
 },
 "nbformat": 4,
 "nbformat_minor": 2
}
