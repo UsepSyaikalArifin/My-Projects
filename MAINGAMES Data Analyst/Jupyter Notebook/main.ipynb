{
 "cells": [
  {
   "cell_type": "markdown",
   "metadata": {},
   "source": [
    "# Data Analyst Project : Business Decision Research About Features & PaidStarPerWatchedHour"
   ]
  },
  {
   "cell_type": "markdown",
   "metadata": {},
   "source": [
    "## Load Library"
   ]
  },
  {
   "cell_type": "code",
   "execution_count": 1,
   "metadata": {},
   "outputs": [],
   "source": [
    "import pandas as pd\n",
    "\n",
    "from IPython.display import display"
   ]
  },
  {
   "cell_type": "markdown",
   "metadata": {},
   "source": [
    "## Data Collection"
   ]
  },
  {
   "cell_type": "markdown",
   "metadata": {},
   "source": [
    "### Load Dataset"
   ]
  },
  {
   "cell_type": "code",
   "execution_count": 3,
   "metadata": {},
   "outputs": [
    {
     "data": {
      "text/html": [
       "<div>\n",
       "<style scoped>\n",
       "    .dataframe tbody tr th:only-of-type {\n",
       "        vertical-align: middle;\n",
       "    }\n",
       "\n",
       "    .dataframe tbody tr th {\n",
       "        vertical-align: top;\n",
       "    }\n",
       "\n",
       "    .dataframe thead th {\n",
       "        text-align: right;\n",
       "    }\n",
       "</style>\n",
       "<table border=\"1\" class=\"dataframe\">\n",
       "  <thead>\n",
       "    <tr style=\"text-align: right;\">\n",
       "      <th></th>\n",
       "      <th>Unnamed: 0</th>\n",
       "      <th>Country</th>\n",
       "      <th>Gender</th>\n",
       "      <th>Game</th>\n",
       "      <th>Total Follower</th>\n",
       "      <th>Broadcast Hours</th>\n",
       "      <th>PaidStarPerWatchedHour</th>\n",
       "      <th>Character_Facet_Cont_Rigidity</th>\n",
       "      <th>Character_Facet_Cont_AchievementStriving</th>\n",
       "      <th>Personal_Values_Facet_Cont_Hedonism</th>\n",
       "      <th>...</th>\n",
       "      <th>Personal_Values_Facet_Cont_UniversalismNature</th>\n",
       "      <th>Role_Charismatic</th>\n",
       "      <th>Personal_Values_Facet_Cont_Tradition</th>\n",
       "      <th>Self_Esteem_Cont_SELevelAppearance</th>\n",
       "      <th>Character_Facet_Cont_Assertiveness</th>\n",
       "      <th>Character_Facet_Cont_Cautiousness</th>\n",
       "      <th>Role_Curator</th>\n",
       "      <th>Personal_Values_Cont_Conservation</th>\n",
       "      <th>Self_Esteem_Cont_SELevelIntelligence</th>\n",
       "      <th>Temperament_Centric</th>\n",
       "    </tr>\n",
       "  </thead>\n",
       "  <tbody>\n",
       "    <tr>\n",
       "      <th>0</th>\n",
       "      <td>0</td>\n",
       "      <td>ID</td>\n",
       "      <td>Male</td>\n",
       "      <td>MLBB</td>\n",
       "      <td>96751</td>\n",
       "      <td>104</td>\n",
       "      <td>0.004113</td>\n",
       "      <td>0.663442</td>\n",
       "      <td>0.718679</td>\n",
       "      <td>0.288008</td>\n",
       "      <td>...</td>\n",
       "      <td>0.523116</td>\n",
       "      <td>0.408444</td>\n",
       "      <td>0.318747</td>\n",
       "      <td>0.684412</td>\n",
       "      <td>0.494384</td>\n",
       "      <td>0.751974</td>\n",
       "      <td>0.524306</td>\n",
       "      <td>0.299052</td>\n",
       "      <td>0.803920</td>\n",
       "      <td>0.625</td>\n",
       "    </tr>\n",
       "    <tr>\n",
       "      <th>1</th>\n",
       "      <td>1</td>\n",
       "      <td>ID</td>\n",
       "      <td>Male</td>\n",
       "      <td>8 Ball Pool</td>\n",
       "      <td>4781</td>\n",
       "      <td>174</td>\n",
       "      <td>0.002855</td>\n",
       "      <td>0.543255</td>\n",
       "      <td>0.427887</td>\n",
       "      <td>0.430609</td>\n",
       "      <td>...</td>\n",
       "      <td>0.444493</td>\n",
       "      <td>0.407624</td>\n",
       "      <td>0.382594</td>\n",
       "      <td>0.635493</td>\n",
       "      <td>0.468738</td>\n",
       "      <td>0.571198</td>\n",
       "      <td>0.100202</td>\n",
       "      <td>0.304527</td>\n",
       "      <td>0.751291</td>\n",
       "      <td>0.125</td>\n",
       "    </tr>\n",
       "    <tr>\n",
       "      <th>2</th>\n",
       "      <td>2</td>\n",
       "      <td>ID</td>\n",
       "      <td>Female</td>\n",
       "      <td>Free Fire - Battlegrounds</td>\n",
       "      <td>68246</td>\n",
       "      <td>83</td>\n",
       "      <td>0.003007</td>\n",
       "      <td>0.527279</td>\n",
       "      <td>0.399873</td>\n",
       "      <td>0.753009</td>\n",
       "      <td>...</td>\n",
       "      <td>0.581657</td>\n",
       "      <td>0.443453</td>\n",
       "      <td>0.325263</td>\n",
       "      <td>0.398686</td>\n",
       "      <td>0.515929</td>\n",
       "      <td>0.309322</td>\n",
       "      <td>0.070988</td>\n",
       "      <td>0.305975</td>\n",
       "      <td>0.759900</td>\n",
       "      <td>0.000</td>\n",
       "    </tr>\n",
       "    <tr>\n",
       "      <th>3</th>\n",
       "      <td>3</td>\n",
       "      <td>ID</td>\n",
       "      <td>Male</td>\n",
       "      <td>MLBB</td>\n",
       "      <td>142037</td>\n",
       "      <td>127</td>\n",
       "      <td>0.005171</td>\n",
       "      <td>0.677222</td>\n",
       "      <td>0.603534</td>\n",
       "      <td>0.407923</td>\n",
       "      <td>...</td>\n",
       "      <td>0.385822</td>\n",
       "      <td>0.408994</td>\n",
       "      <td>0.440821</td>\n",
       "      <td>0.703669</td>\n",
       "      <td>0.516412</td>\n",
       "      <td>0.535322</td>\n",
       "      <td>0.214652</td>\n",
       "      <td>0.298592</td>\n",
       "      <td>0.734010</td>\n",
       "      <td>0.000</td>\n",
       "    </tr>\n",
       "    <tr>\n",
       "      <th>4</th>\n",
       "      <td>4</td>\n",
       "      <td>ID</td>\n",
       "      <td>Male</td>\n",
       "      <td>Free Fire - Battlegrounds</td>\n",
       "      <td>15416</td>\n",
       "      <td>86</td>\n",
       "      <td>0.001213</td>\n",
       "      <td>0.238194</td>\n",
       "      <td>0.543285</td>\n",
       "      <td>0.392993</td>\n",
       "      <td>...</td>\n",
       "      <td>0.582025</td>\n",
       "      <td>0.135650</td>\n",
       "      <td>0.405968</td>\n",
       "      <td>0.439668</td>\n",
       "      <td>0.586193</td>\n",
       "      <td>0.567604</td>\n",
       "      <td>0.324364</td>\n",
       "      <td>0.298716</td>\n",
       "      <td>0.814530</td>\n",
       "      <td>0.125</td>\n",
       "    </tr>\n",
       "  </tbody>\n",
       "</table>\n",
       "<p>5 rows × 127 columns</p>\n",
       "</div>"
      ],
      "text/plain": [
       "   Unnamed: 0 Country  Gender                       Game Total Follower  \\\n",
       "0           0      ID    Male                       MLBB          96751   \n",
       "1           1      ID    Male                8 Ball Pool           4781   \n",
       "2           2      ID  Female  Free Fire - Battlegrounds          68246   \n",
       "3           3      ID    Male                       MLBB         142037   \n",
       "4           4      ID    Male  Free Fire - Battlegrounds          15416   \n",
       "\n",
       "   Broadcast Hours  PaidStarPerWatchedHour  Character_Facet_Cont_Rigidity  \\\n",
       "0              104                0.004113                       0.663442   \n",
       "1              174                0.002855                       0.543255   \n",
       "2               83                0.003007                       0.527279   \n",
       "3              127                0.005171                       0.677222   \n",
       "4               86                0.001213                       0.238194   \n",
       "\n",
       "   Character_Facet_Cont_AchievementStriving  \\\n",
       "0                                  0.718679   \n",
       "1                                  0.427887   \n",
       "2                                  0.399873   \n",
       "3                                  0.603534   \n",
       "4                                  0.543285   \n",
       "\n",
       "   Personal_Values_Facet_Cont_Hedonism  ...  \\\n",
       "0                             0.288008  ...   \n",
       "1                             0.430609  ...   \n",
       "2                             0.753009  ...   \n",
       "3                             0.407923  ...   \n",
       "4                             0.392993  ...   \n",
       "\n",
       "   Personal_Values_Facet_Cont_UniversalismNature  Role_Charismatic  \\\n",
       "0                                       0.523116          0.408444   \n",
       "1                                       0.444493          0.407624   \n",
       "2                                       0.581657          0.443453   \n",
       "3                                       0.385822          0.408994   \n",
       "4                                       0.582025          0.135650   \n",
       "\n",
       "   Personal_Values_Facet_Cont_Tradition  Self_Esteem_Cont_SELevelAppearance  \\\n",
       "0                              0.318747                            0.684412   \n",
       "1                              0.382594                            0.635493   \n",
       "2                              0.325263                            0.398686   \n",
       "3                              0.440821                            0.703669   \n",
       "4                              0.405968                            0.439668   \n",
       "\n",
       "   Character_Facet_Cont_Assertiveness  Character_Facet_Cont_Cautiousness  \\\n",
       "0                            0.494384                           0.751974   \n",
       "1                            0.468738                           0.571198   \n",
       "2                            0.515929                           0.309322   \n",
       "3                            0.516412                           0.535322   \n",
       "4                            0.586193                           0.567604   \n",
       "\n",
       "   Role_Curator  Personal_Values_Cont_Conservation  \\\n",
       "0      0.524306                           0.299052   \n",
       "1      0.100202                           0.304527   \n",
       "2      0.070988                           0.305975   \n",
       "3      0.214652                           0.298592   \n",
       "4      0.324364                           0.298716   \n",
       "\n",
       "   Self_Esteem_Cont_SELevelIntelligence  Temperament_Centric  \n",
       "0                              0.803920                0.625  \n",
       "1                              0.751291                0.125  \n",
       "2                              0.759900                0.000  \n",
       "3                              0.734010                0.000  \n",
       "4                              0.814530                0.125  \n",
       "\n",
       "[5 rows x 127 columns]"
      ]
     },
     "metadata": {},
     "output_type": "display_data"
    }
   ],
   "source": [
    "dataset = pd.read_csv(r\"D:\\Usep Syaikal Arifin\\Computer Programming\\Python\\MyProjects\\MAINGAMES Data Analyst\\Dataset\\Maingames_DS_dataset.csv\")\n",
    "display(dataset.head())"
   ]
  },
  {
   "cell_type": "markdown",
   "metadata": {},
   "source": [
    "## Data Preparation"
   ]
  },
  {
   "cell_type": "markdown",
   "metadata": {},
   "source": [
    "### Dataset Eksploration"
   ]
  },
  {
   "cell_type": "code",
   "execution_count": 4,
   "metadata": {},
   "outputs": [
    {
     "name": "stdout",
     "output_type": "stream",
     "text": [
      "Dimension of Dataset = 631 Rows & 127 Columns\n"
     ]
    }
   ],
   "source": [
    "print(\"Dimension of Dataset = %d Rows & %d Columns\"%dataset.shape)"
   ]
  },
  {
   "cell_type": "markdown",
   "metadata": {},
   "source": [
    "### Handling Missing Value"
   ]
  },
  {
   "cell_type": "code",
   "execution_count": 7,
   "metadata": {},
   "outputs": [
    {
     "name": "stdout",
     "output_type": "stream",
     "text": [
      "Checks Existing of Missing Value Dataset = ?\n"
     ]
    },
    {
     "data": {
      "text/plain": [
       "['Gender',\n",
       " 'Game',\n",
       " 'Total Follower',\n",
       " 'PaidStarPerWatchedHour',\n",
       " 'PaidStarPerWatchedHour.1']"
      ]
     },
     "metadata": {},
     "output_type": "display_data"
    },
    {
     "data": {
      "text/plain": [
       "8"
      ]
     },
     "metadata": {},
     "output_type": "display_data"
    }
   ],
   "source": [
    "print(\"Checks Existing of Missing Value Dataset = ?\")\n",
    "\n",
    "missing_values_columns = dataset.columns[dataset.isnull().any()].to_list()\n",
    "total_missing_values = dataset.isnull().sum().sum()\n",
    "\n",
    "display(missing_values_columns)\n",
    "display(total_missing_values)"
   ]
  },
  {
   "cell_type": "code",
   "execution_count": 8,
   "metadata": {},
   "outputs": [
    {
     "name": "stdout",
     "output_type": "stream",
     "text": [
      "Checks Existing of Missing Value Dataset = ?\n"
     ]
    },
    {
     "data": {
      "text/plain": [
       "[]"
      ]
     },
     "metadata": {},
     "output_type": "display_data"
    },
    {
     "data": {
      "text/plain": [
       "0"
      ]
     },
     "metadata": {},
     "output_type": "display_data"
    }
   ],
   "source": [
    "dataset = dataset.dropna(subset=missing_values_columns)\n",
    "\n",
    "print(\"Checks Existing of Missing Value Dataset = ?\")\n",
    "\n",
    "missing_values_columns = dataset.columns[dataset.isnull().any()].to_list()\n",
    "total_missing_values = dataset.isnull().sum().sum()\n",
    "\n",
    "display(missing_values_columns)\n",
    "display(total_missing_values)"
   ]
  },
  {
   "cell_type": "markdown",
   "metadata": {},
   "source": [
    "### Drop Useless Columns"
   ]
  },
  {
   "cell_type": "code",
   "execution_count": 9,
   "metadata": {},
   "outputs": [
    {
     "name": "stdout",
     "output_type": "stream",
     "text": [
      "Dimension of Dataset = 626 Rows & 125 Columns\n"
     ]
    }
   ],
   "source": [
    "useless_columns = [\"Unnamed: 0\",\"PaidStarPerWatchedHour.1\"]\n",
    "dataset = dataset.drop(useless_columns, axis=1)\n",
    "\n",
    "print(\"Dimension of Dataset = %d Rows & %d Columns\"%dataset.shape)"
   ]
  },
  {
   "cell_type": "markdown",
   "metadata": {},
   "source": [
    "### Split The Columns Into Several Segments"
   ]
  },
  {
   "cell_type": "markdown",
   "metadata": {},
   "source": [
    "#### Making Label DataFrame"
   ]
  },
  {
   "cell_type": "code",
   "execution_count": 11,
   "metadata": {},
   "outputs": [
    {
     "data": {
      "text/html": [
       "<div>\n",
       "<style scoped>\n",
       "    .dataframe tbody tr th:only-of-type {\n",
       "        vertical-align: middle;\n",
       "    }\n",
       "\n",
       "    .dataframe tbody tr th {\n",
       "        vertical-align: top;\n",
       "    }\n",
       "\n",
       "    .dataframe thead th {\n",
       "        text-align: right;\n",
       "    }\n",
       "</style>\n",
       "<table border=\"1\" class=\"dataframe\">\n",
       "  <thead>\n",
       "    <tr style=\"text-align: right;\">\n",
       "      <th></th>\n",
       "      <th>PaidStarPerWatchedHour</th>\n",
       "    </tr>\n",
       "  </thead>\n",
       "  <tbody>\n",
       "    <tr>\n",
       "      <th>0</th>\n",
       "      <td>0.004113</td>\n",
       "    </tr>\n",
       "    <tr>\n",
       "      <th>1</th>\n",
       "      <td>0.002855</td>\n",
       "    </tr>\n",
       "    <tr>\n",
       "      <th>2</th>\n",
       "      <td>0.003007</td>\n",
       "    </tr>\n",
       "    <tr>\n",
       "      <th>3</th>\n",
       "      <td>0.005171</td>\n",
       "    </tr>\n",
       "    <tr>\n",
       "      <th>4</th>\n",
       "      <td>0.001213</td>\n",
       "    </tr>\n",
       "  </tbody>\n",
       "</table>\n",
       "</div>"
      ],
      "text/plain": [
       "   PaidStarPerWatchedHour\n",
       "0                0.004113\n",
       "1                0.002855\n",
       "2                0.003007\n",
       "3                0.005171\n",
       "4                0.001213"
      ]
     },
     "metadata": {},
     "output_type": "display_data"
    }
   ],
   "source": [
    "Label = dataset[[\"PaidStarPerWatchedHour\"]]\n",
    "display(Label.head())"
   ]
  },
  {
   "cell_type": "markdown",
   "metadata": {},
   "source": [
    "#### Making Features DataFrame"
   ]
  },
  {
   "cell_type": "code",
   "execution_count": 12,
   "metadata": {},
   "outputs": [
    {
     "data": {
      "text/html": [
       "<div>\n",
       "<style scoped>\n",
       "    .dataframe tbody tr th:only-of-type {\n",
       "        vertical-align: middle;\n",
       "    }\n",
       "\n",
       "    .dataframe tbody tr th {\n",
       "        vertical-align: top;\n",
       "    }\n",
       "\n",
       "    .dataframe thead th {\n",
       "        text-align: right;\n",
       "    }\n",
       "</style>\n",
       "<table border=\"1\" class=\"dataframe\">\n",
       "  <thead>\n",
       "    <tr style=\"text-align: right;\">\n",
       "      <th></th>\n",
       "      <th>Country</th>\n",
       "      <th>Gender</th>\n",
       "      <th>Game</th>\n",
       "      <th>Total Follower</th>\n",
       "      <th>Broadcast Hours</th>\n",
       "      <th>Character_Facet_Cont_Rigidity</th>\n",
       "      <th>Character_Facet_Cont_AchievementStriving</th>\n",
       "      <th>Personal_Values_Facet_Cont_Hedonism</th>\n",
       "      <th>Character_Facet_Cont_Dutifulness</th>\n",
       "      <th>Character_Cont_Conscientiousness</th>\n",
       "      <th>...</th>\n",
       "      <th>Personal_Values_Facet_Cont_UniversalismNature</th>\n",
       "      <th>Role_Charismatic</th>\n",
       "      <th>Personal_Values_Facet_Cont_Tradition</th>\n",
       "      <th>Self_Esteem_Cont_SELevelAppearance</th>\n",
       "      <th>Character_Facet_Cont_Assertiveness</th>\n",
       "      <th>Character_Facet_Cont_Cautiousness</th>\n",
       "      <th>Role_Curator</th>\n",
       "      <th>Personal_Values_Cont_Conservation</th>\n",
       "      <th>Self_Esteem_Cont_SELevelIntelligence</th>\n",
       "      <th>Temperament_Centric</th>\n",
       "    </tr>\n",
       "  </thead>\n",
       "  <tbody>\n",
       "    <tr>\n",
       "      <th>0</th>\n",
       "      <td>ID</td>\n",
       "      <td>Male</td>\n",
       "      <td>MLBB</td>\n",
       "      <td>96751</td>\n",
       "      <td>104</td>\n",
       "      <td>0.663442</td>\n",
       "      <td>0.718679</td>\n",
       "      <td>0.288008</td>\n",
       "      <td>0.471456</td>\n",
       "      <td>0.522711</td>\n",
       "      <td>...</td>\n",
       "      <td>0.523116</td>\n",
       "      <td>0.408444</td>\n",
       "      <td>0.318747</td>\n",
       "      <td>0.684412</td>\n",
       "      <td>0.494384</td>\n",
       "      <td>0.751974</td>\n",
       "      <td>0.524306</td>\n",
       "      <td>0.299052</td>\n",
       "      <td>0.803920</td>\n",
       "      <td>0.625</td>\n",
       "    </tr>\n",
       "    <tr>\n",
       "      <th>1</th>\n",
       "      <td>ID</td>\n",
       "      <td>Male</td>\n",
       "      <td>8 Ball Pool</td>\n",
       "      <td>4781</td>\n",
       "      <td>174</td>\n",
       "      <td>0.543255</td>\n",
       "      <td>0.427887</td>\n",
       "      <td>0.430609</td>\n",
       "      <td>0.493514</td>\n",
       "      <td>0.348513</td>\n",
       "      <td>...</td>\n",
       "      <td>0.444493</td>\n",
       "      <td>0.407624</td>\n",
       "      <td>0.382594</td>\n",
       "      <td>0.635493</td>\n",
       "      <td>0.468738</td>\n",
       "      <td>0.571198</td>\n",
       "      <td>0.100202</td>\n",
       "      <td>0.304527</td>\n",
       "      <td>0.751291</td>\n",
       "      <td>0.125</td>\n",
       "    </tr>\n",
       "    <tr>\n",
       "      <th>2</th>\n",
       "      <td>ID</td>\n",
       "      <td>Female</td>\n",
       "      <td>Free Fire - Battlegrounds</td>\n",
       "      <td>68246</td>\n",
       "      <td>83</td>\n",
       "      <td>0.527279</td>\n",
       "      <td>0.399873</td>\n",
       "      <td>0.753009</td>\n",
       "      <td>0.472405</td>\n",
       "      <td>0.376854</td>\n",
       "      <td>...</td>\n",
       "      <td>0.581657</td>\n",
       "      <td>0.443453</td>\n",
       "      <td>0.325263</td>\n",
       "      <td>0.398686</td>\n",
       "      <td>0.515929</td>\n",
       "      <td>0.309322</td>\n",
       "      <td>0.070988</td>\n",
       "      <td>0.305975</td>\n",
       "      <td>0.759900</td>\n",
       "      <td>0.000</td>\n",
       "    </tr>\n",
       "    <tr>\n",
       "      <th>3</th>\n",
       "      <td>ID</td>\n",
       "      <td>Male</td>\n",
       "      <td>MLBB</td>\n",
       "      <td>142037</td>\n",
       "      <td>127</td>\n",
       "      <td>0.677222</td>\n",
       "      <td>0.603534</td>\n",
       "      <td>0.407923</td>\n",
       "      <td>0.467787</td>\n",
       "      <td>0.499234</td>\n",
       "      <td>...</td>\n",
       "      <td>0.385822</td>\n",
       "      <td>0.408994</td>\n",
       "      <td>0.440821</td>\n",
       "      <td>0.703669</td>\n",
       "      <td>0.516412</td>\n",
       "      <td>0.535322</td>\n",
       "      <td>0.214652</td>\n",
       "      <td>0.298592</td>\n",
       "      <td>0.734010</td>\n",
       "      <td>0.000</td>\n",
       "    </tr>\n",
       "    <tr>\n",
       "      <th>4</th>\n",
       "      <td>ID</td>\n",
       "      <td>Male</td>\n",
       "      <td>Free Fire - Battlegrounds</td>\n",
       "      <td>15416</td>\n",
       "      <td>86</td>\n",
       "      <td>0.238194</td>\n",
       "      <td>0.543285</td>\n",
       "      <td>0.392993</td>\n",
       "      <td>0.583099</td>\n",
       "      <td>0.469371</td>\n",
       "      <td>...</td>\n",
       "      <td>0.582025</td>\n",
       "      <td>0.135650</td>\n",
       "      <td>0.405968</td>\n",
       "      <td>0.439668</td>\n",
       "      <td>0.586193</td>\n",
       "      <td>0.567604</td>\n",
       "      <td>0.324364</td>\n",
       "      <td>0.298716</td>\n",
       "      <td>0.814530</td>\n",
       "      <td>0.125</td>\n",
       "    </tr>\n",
       "  </tbody>\n",
       "</table>\n",
       "<p>5 rows × 124 columns</p>\n",
       "</div>"
      ],
      "text/plain": [
       "  Country  Gender                       Game Total Follower  Broadcast Hours  \\\n",
       "0      ID    Male                       MLBB          96751              104   \n",
       "1      ID    Male                8 Ball Pool           4781              174   \n",
       "2      ID  Female  Free Fire - Battlegrounds          68246               83   \n",
       "3      ID    Male                       MLBB         142037              127   \n",
       "4      ID    Male  Free Fire - Battlegrounds          15416               86   \n",
       "\n",
       "   Character_Facet_Cont_Rigidity  Character_Facet_Cont_AchievementStriving  \\\n",
       "0                       0.663442                                  0.718679   \n",
       "1                       0.543255                                  0.427887   \n",
       "2                       0.527279                                  0.399873   \n",
       "3                       0.677222                                  0.603534   \n",
       "4                       0.238194                                  0.543285   \n",
       "\n",
       "   Personal_Values_Facet_Cont_Hedonism  Character_Facet_Cont_Dutifulness  \\\n",
       "0                             0.288008                          0.471456   \n",
       "1                             0.430609                          0.493514   \n",
       "2                             0.753009                          0.472405   \n",
       "3                             0.407923                          0.467787   \n",
       "4                             0.392993                          0.583099   \n",
       "\n",
       "   Character_Cont_Conscientiousness  ...  \\\n",
       "0                          0.522711  ...   \n",
       "1                          0.348513  ...   \n",
       "2                          0.376854  ...   \n",
       "3                          0.499234  ...   \n",
       "4                          0.469371  ...   \n",
       "\n",
       "   Personal_Values_Facet_Cont_UniversalismNature  Role_Charismatic  \\\n",
       "0                                       0.523116          0.408444   \n",
       "1                                       0.444493          0.407624   \n",
       "2                                       0.581657          0.443453   \n",
       "3                                       0.385822          0.408994   \n",
       "4                                       0.582025          0.135650   \n",
       "\n",
       "   Personal_Values_Facet_Cont_Tradition  Self_Esteem_Cont_SELevelAppearance  \\\n",
       "0                              0.318747                            0.684412   \n",
       "1                              0.382594                            0.635493   \n",
       "2                              0.325263                            0.398686   \n",
       "3                              0.440821                            0.703669   \n",
       "4                              0.405968                            0.439668   \n",
       "\n",
       "   Character_Facet_Cont_Assertiveness  Character_Facet_Cont_Cautiousness  \\\n",
       "0                            0.494384                           0.751974   \n",
       "1                            0.468738                           0.571198   \n",
       "2                            0.515929                           0.309322   \n",
       "3                            0.516412                           0.535322   \n",
       "4                            0.586193                           0.567604   \n",
       "\n",
       "   Role_Curator  Personal_Values_Cont_Conservation  \\\n",
       "0      0.524306                           0.299052   \n",
       "1      0.100202                           0.304527   \n",
       "2      0.070988                           0.305975   \n",
       "3      0.214652                           0.298592   \n",
       "4      0.324364                           0.298716   \n",
       "\n",
       "   Self_Esteem_Cont_SELevelIntelligence  Temperament_Centric  \n",
       "0                              0.803920                0.625  \n",
       "1                              0.751291                0.125  \n",
       "2                              0.759900                0.000  \n",
       "3                              0.734010                0.000  \n",
       "4                              0.814530                0.125  \n",
       "\n",
       "[5 rows x 124 columns]"
      ]
     },
     "metadata": {},
     "output_type": "display_data"
    }
   ],
   "source": [
    "Features = dataset.drop([\"PaidStarPerWatchedHour\"], axis=1)\n",
    "display(Features.head())"
   ]
  },
  {
   "cell_type": "markdown",
   "metadata": {},
   "source": [
    "#### Split The Features Into Several Segements"
   ]
  },
  {
   "cell_type": "code",
   "execution_count": 16,
   "metadata": {},
   "outputs": [],
   "source": [
    "Features_columns = Features.columns.to_list()"
   ]
  },
  {
   "cell_type": "code",
   "execution_count": 19,
   "metadata": {},
   "outputs": [],
   "source": [
    "Character_columns = []\n",
    "Personal_columns = []\n",
    "Temperament_columns = []\n",
    "Self_columns = []\n",
    "Role_columns = []\n",
    "Core_columns = []\n",
    "\n",
    "for column in Features_columns:\n",
    "    if column.startswith(\"Character\"):\n",
    "        Character_columns.append(column)\n",
    "    elif column.startswith(\"Personal\"):\n",
    "        Personal_columns.append(column)\n",
    "    elif column.startswith(\"Temperament\"):\n",
    "        Temperament_columns.append(column)\n",
    "    elif column.startswith(\"Self\"):\n",
    "        Self_columns.append(column)\n",
    "    elif column.startswith(\"Role\"):\n",
    "        Role_columns.append(column)\n",
    "    else:\n",
    "        Core_columns.append(column)"
   ]
  },
  {
   "cell_type": "code",
   "execution_count": 29,
   "metadata": {},
   "outputs": [
    {
     "data": {
      "text/plain": [
       "30"
      ]
     },
     "metadata": {},
     "output_type": "display_data"
    },
    {
     "data": {
      "text/plain": [
       "23"
      ]
     },
     "metadata": {},
     "output_type": "display_data"
    },
    {
     "data": {
      "text/plain": [
       "9"
      ]
     },
     "metadata": {},
     "output_type": "display_data"
    },
    {
     "data": {
      "text/plain": [
       "24"
      ]
     },
     "metadata": {},
     "output_type": "display_data"
    },
    {
     "data": {
      "text/plain": [
       "32"
      ]
     },
     "metadata": {},
     "output_type": "display_data"
    },
    {
     "data": {
      "text/plain": [
       "6"
      ]
     },
     "metadata": {},
     "output_type": "display_data"
    }
   ],
   "source": [
    "display(len(Character_columns))\n",
    "display(len(Personal_columns))\n",
    "display(len(Temperament_columns))\n",
    "display(len(Self_columns))\n",
    "display(len(Role_columns))\n",
    "display(len(Core_columns))"
   ]
  },
  {
   "cell_type": "code",
   "execution_count": null,
   "metadata": {},
   "outputs": [],
   "source": []
  }
 ],
 "metadata": {
  "interpreter": {
   "hash": "a735e8d5f2ebeae8eff3c40d8a94f415263963b10ae3464c60988cc9ac0e5420"
  },
  "kernelspec": {
   "display_name": "Python 3.8.10 64-bit",
   "language": "python",
   "name": "python3"
  },
  "language_info": {
   "codemirror_mode": {
    "name": "ipython",
    "version": 3
   },
   "file_extension": ".py",
   "mimetype": "text/x-python",
   "name": "python",
   "nbconvert_exporter": "python",
   "pygments_lexer": "ipython3",
   "version": "3.8.10"
  },
  "orig_nbformat": 4
 },
 "nbformat": 4,
 "nbformat_minor": 2
}
